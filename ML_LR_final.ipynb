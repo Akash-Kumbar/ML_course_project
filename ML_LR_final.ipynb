{
 "cells": [
  {
   "cell_type": "markdown",
   "metadata": {},
   "source": [
    "# Linear Regression (Supervised ML)"
   ]
  },
  {
   "cell_type": "code",
   "execution_count": 72,
   "metadata": {},
   "outputs": [],
   "source": [
    "import pandas as pd\n",
    "import numpy as np\n",
    "%matplotlib inline\n",
    "import matplotlib.pyplot as plt\n",
    "import seaborn as sns"
   ]
  },
  {
   "cell_type": "code",
   "execution_count": 73,
   "metadata": {},
   "outputs": [],
   "source": [
    "#Reading in the data\n",
    "\n",
    "xls = pd.ExcelFile(\"ml_data_final.xlsx\")\n",
    "\n",
    "df_train = pd.read_excel(xls, \"Sheet1\")\n",
    "df_train_og = pd.read_excel(xls, \"Sheet1\")"
   ]
  },
  {
   "cell_type": "code",
   "execution_count": 74,
   "metadata": {},
   "outputs": [
    {
     "data": {
      "text/html": [
       "<div>\n",
       "<style scoped>\n",
       "    .dataframe tbody tr th:only-of-type {\n",
       "        vertical-align: middle;\n",
       "    }\n",
       "\n",
       "    .dataframe tbody tr th {\n",
       "        vertical-align: top;\n",
       "    }\n",
       "\n",
       "    .dataframe thead th {\n",
       "        text-align: right;\n",
       "    }\n",
       "</style>\n",
       "<table border=\"1\" class=\"dataframe\">\n",
       "  <thead>\n",
       "    <tr style=\"text-align: right;\">\n",
       "      <th></th>\n",
       "      <th>Product_name</th>\n",
       "      <th>Product_url</th>\n",
       "      <th>Category</th>\n",
       "      <th>Avg_review</th>\n",
       "      <th>No_of_reviews</th>\n",
       "      <th>Price</th>\n",
       "      <th>Brand</th>\n",
       "      <th>Average_sales_month</th>\n",
       "    </tr>\n",
       "  </thead>\n",
       "  <tbody>\n",
       "    <tr>\n",
       "      <th>0</th>\n",
       "      <td>Lymio Women's Regular Top</td>\n",
       "      <td>https://www.amazon.in/Lymio-Womens-Regular-Top...</td>\n",
       "      <td>Clothing and accessories</td>\n",
       "      <td>4.4</td>\n",
       "      <td>197.0</td>\n",
       "      <td>379.0</td>\n",
       "      <td>Lymio</td>\n",
       "      <td>500</td>\n",
       "    </tr>\n",
       "    <tr>\n",
       "      <th>1</th>\n",
       "      <td>Lymio Women's Regular Color Chocker Neck Half ...</td>\n",
       "      <td>https://www.amazon.in/Lymio-Womens-Regular-Top...</td>\n",
       "      <td>Clothing and accessories</td>\n",
       "      <td>4.1</td>\n",
       "      <td>482.0</td>\n",
       "      <td>369.0</td>\n",
       "      <td>Lymio</td>\n",
       "      <td>436</td>\n",
       "    </tr>\n",
       "    <tr>\n",
       "      <th>2</th>\n",
       "      <td>Women Printed Slub Rayon Top with Half Sleeves</td>\n",
       "      <td>https://www.amazon.in/DHRUVI-TRENDZ-Printed-Sl...</td>\n",
       "      <td>Clothing and accessories</td>\n",
       "      <td>3.6</td>\n",
       "      <td>648.0</td>\n",
       "      <td>349.0</td>\n",
       "      <td>DHRUVI TRENDZ</td>\n",
       "      <td>321</td>\n",
       "    </tr>\n",
       "    <tr>\n",
       "      <th>3</th>\n",
       "      <td>Butterfly Tops for Women Stylish</td>\n",
       "      <td>https://www.amazon.in/Bhumi-fashion-Butterfly-...</td>\n",
       "      <td>Clothing and accessories</td>\n",
       "      <td>2.0</td>\n",
       "      <td>3.0</td>\n",
       "      <td>459.0</td>\n",
       "      <td>Bhumi fashion</td>\n",
       "      <td>284</td>\n",
       "    </tr>\n",
       "    <tr>\n",
       "      <th>4</th>\n",
       "      <td>Women's Diva Slub Regular Fit Dyed Top</td>\n",
       "      <td>https://www.amazon.in/SIRIL-WomenS-Rayon-117TK...</td>\n",
       "      <td>Clothing and accessories</td>\n",
       "      <td>3.8</td>\n",
       "      <td>367.0</td>\n",
       "      <td>359.0</td>\n",
       "      <td>SIRIL</td>\n",
       "      <td>251</td>\n",
       "    </tr>\n",
       "  </tbody>\n",
       "</table>\n",
       "</div>"
      ],
      "text/plain": [
       "                                        Product_name  \\\n",
       "0                          Lymio Women's Regular Top   \n",
       "1  Lymio Women's Regular Color Chocker Neck Half ...   \n",
       "2     Women Printed Slub Rayon Top with Half Sleeves   \n",
       "3                   Butterfly Tops for Women Stylish   \n",
       "4             Women's Diva Slub Regular Fit Dyed Top   \n",
       "\n",
       "                                         Product_url  \\\n",
       "0  https://www.amazon.in/Lymio-Womens-Regular-Top...   \n",
       "1  https://www.amazon.in/Lymio-Womens-Regular-Top...   \n",
       "2  https://www.amazon.in/DHRUVI-TRENDZ-Printed-Sl...   \n",
       "3  https://www.amazon.in/Bhumi-fashion-Butterfly-...   \n",
       "4  https://www.amazon.in/SIRIL-WomenS-Rayon-117TK...   \n",
       "\n",
       "                   Category  Avg_review  No_of_reviews  Price          Brand  \\\n",
       "0  Clothing and accessories         4.4          197.0  379.0          Lymio   \n",
       "1  Clothing and accessories         4.1          482.0  369.0          Lymio   \n",
       "2  Clothing and accessories         3.6          648.0  349.0  DHRUVI TRENDZ   \n",
       "3  Clothing and accessories         2.0            3.0  459.0  Bhumi fashion   \n",
       "4  Clothing and accessories         3.8          367.0  359.0          SIRIL   \n",
       "\n",
       "   Average_sales_month  \n",
       "0                  500  \n",
       "1                  436  \n",
       "2                  321  \n",
       "3                  284  \n",
       "4                  251  "
      ]
     },
     "execution_count": 74,
     "metadata": {},
     "output_type": "execute_result"
    }
   ],
   "source": [
    "df_train.head()\n"
   ]
  },
  {
   "cell_type": "code",
   "execution_count": 75,
   "metadata": {},
   "outputs": [
    {
     "data": {
      "text/plain": [
       "(1501, 8)"
      ]
     },
     "execution_count": 75,
     "metadata": {},
     "output_type": "execute_result"
    }
   ],
   "source": [
    "df_train.shape"
   ]
  },
  {
   "cell_type": "code",
   "execution_count": 76,
   "metadata": {},
   "outputs": [
    {
     "data": {
      "text/html": [
       "<div>\n",
       "<style scoped>\n",
       "    .dataframe tbody tr th:only-of-type {\n",
       "        vertical-align: middle;\n",
       "    }\n",
       "\n",
       "    .dataframe tbody tr th {\n",
       "        vertical-align: top;\n",
       "    }\n",
       "\n",
       "    .dataframe thead th {\n",
       "        text-align: right;\n",
       "    }\n",
       "</style>\n",
       "<table border=\"1\" class=\"dataframe\">\n",
       "  <thead>\n",
       "    <tr style=\"text-align: right;\">\n",
       "      <th></th>\n",
       "      <th>Product_name</th>\n",
       "      <th>Product_url</th>\n",
       "      <th>Category</th>\n",
       "      <th>Avg_review</th>\n",
       "      <th>No_of_reviews</th>\n",
       "      <th>Price</th>\n",
       "      <th>Brand</th>\n",
       "      <th>Average_sales_month</th>\n",
       "    </tr>\n",
       "  </thead>\n",
       "  <tbody>\n",
       "    <tr>\n",
       "      <th>0</th>\n",
       "      <td>Lymio Women's Regular Top</td>\n",
       "      <td>https://www.amazon.in/Lymio-Womens-Regular-Top...</td>\n",
       "      <td>Clothing and accessories</td>\n",
       "      <td>4.4</td>\n",
       "      <td>197.0</td>\n",
       "      <td>379.0</td>\n",
       "      <td>Lymio</td>\n",
       "      <td>500</td>\n",
       "    </tr>\n",
       "    <tr>\n",
       "      <th>1</th>\n",
       "      <td>Lymio Women's Regular Color Chocker Neck Half ...</td>\n",
       "      <td>https://www.amazon.in/Lymio-Womens-Regular-Top...</td>\n",
       "      <td>Clothing and accessories</td>\n",
       "      <td>4.1</td>\n",
       "      <td>482.0</td>\n",
       "      <td>369.0</td>\n",
       "      <td>Lymio</td>\n",
       "      <td>436</td>\n",
       "    </tr>\n",
       "    <tr>\n",
       "      <th>2</th>\n",
       "      <td>Women Printed Slub Rayon Top with Half Sleeves</td>\n",
       "      <td>https://www.amazon.in/DHRUVI-TRENDZ-Printed-Sl...</td>\n",
       "      <td>Clothing and accessories</td>\n",
       "      <td>3.6</td>\n",
       "      <td>648.0</td>\n",
       "      <td>349.0</td>\n",
       "      <td>DHRUVI TRENDZ</td>\n",
       "      <td>321</td>\n",
       "    </tr>\n",
       "    <tr>\n",
       "      <th>3</th>\n",
       "      <td>Butterfly Tops for Women Stylish</td>\n",
       "      <td>https://www.amazon.in/Bhumi-fashion-Butterfly-...</td>\n",
       "      <td>Clothing and accessories</td>\n",
       "      <td>2.0</td>\n",
       "      <td>3.0</td>\n",
       "      <td>459.0</td>\n",
       "      <td>Bhumi fashion</td>\n",
       "      <td>284</td>\n",
       "    </tr>\n",
       "    <tr>\n",
       "      <th>4</th>\n",
       "      <td>Women's Diva Slub Regular Fit Dyed Top</td>\n",
       "      <td>https://www.amazon.in/SIRIL-WomenS-Rayon-117TK...</td>\n",
       "      <td>Clothing and accessories</td>\n",
       "      <td>3.8</td>\n",
       "      <td>367.0</td>\n",
       "      <td>359.0</td>\n",
       "      <td>SIRIL</td>\n",
       "      <td>251</td>\n",
       "    </tr>\n",
       "    <tr>\n",
       "      <th>...</th>\n",
       "      <td>...</td>\n",
       "      <td>...</td>\n",
       "      <td>...</td>\n",
       "      <td>...</td>\n",
       "      <td>...</td>\n",
       "      <td>...</td>\n",
       "      <td>...</td>\n",
       "      <td>...</td>\n",
       "    </tr>\n",
       "    <tr>\n",
       "      <th>1496</th>\n",
       "      <td>Mi Pocket Power Bank Pro Black 10000mAh | Trip...</td>\n",
       "      <td>https://www.amazon.in/Pocket-10000mAh-Triple-C...</td>\n",
       "      <td>Electronics</td>\n",
       "      <td>4.3</td>\n",
       "      <td>5904.0</td>\n",
       "      <td>1399.0</td>\n",
       "      <td>Redmi</td>\n",
       "      <td>1504</td>\n",
       "    </tr>\n",
       "    <tr>\n",
       "      <th>1497</th>\n",
       "      <td>Mi 10000mAH Li-Polymer Power Bank 3i with 18W ...</td>\n",
       "      <td>https://www.amazon.in/10000mAH-Li-Polymer-Powe...</td>\n",
       "      <td>Electronics</td>\n",
       "      <td>4.3</td>\n",
       "      <td>79833.0</td>\n",
       "      <td>999.0</td>\n",
       "      <td>Redmi</td>\n",
       "      <td>2469</td>\n",
       "    </tr>\n",
       "    <tr>\n",
       "      <th>1498</th>\n",
       "      <td>Mi Power Bank 3i 20000mAh | 18W Fast PD Chargi...</td>\n",
       "      <td>https://www.amazon.in/10000mAH-Li-Polymer-Powe...</td>\n",
       "      <td>Electronics</td>\n",
       "      <td>4.3</td>\n",
       "      <td>79833.0</td>\n",
       "      <td>1699.0</td>\n",
       "      <td>Redmi</td>\n",
       "      <td>3339</td>\n",
       "    </tr>\n",
       "    <tr>\n",
       "      <th>1499</th>\n",
       "      <td>Redmi 9A(Midnight Black 3GB RAM 32GB Storage) ...</td>\n",
       "      <td>https://www.amazon.in/Redmi-9A-2GB-32GB-Storag...</td>\n",
       "      <td>Electronics</td>\n",
       "      <td>4.2</td>\n",
       "      <td>86791.0</td>\n",
       "      <td>7999.0</td>\n",
       "      <td>Redmi</td>\n",
       "      <td>2320</td>\n",
       "    </tr>\n",
       "    <tr>\n",
       "      <th>1500</th>\n",
       "      <td>SanDisk Cruzer Blade 32GB USB Flash Drive</td>\n",
       "      <td>https://www.amazon.in/SanDisk-Cruzer-Blade-Fla...</td>\n",
       "      <td>Electronics</td>\n",
       "      <td>4.3</td>\n",
       "      <td>179433.0</td>\n",
       "      <td>359.0</td>\n",
       "      <td>SanDisk</td>\n",
       "      <td>2588</td>\n",
       "    </tr>\n",
       "  </tbody>\n",
       "</table>\n",
       "<p>1501 rows × 8 columns</p>\n",
       "</div>"
      ],
      "text/plain": [
       "                                           Product_name  \\\n",
       "0                             Lymio Women's Regular Top   \n",
       "1     Lymio Women's Regular Color Chocker Neck Half ...   \n",
       "2        Women Printed Slub Rayon Top with Half Sleeves   \n",
       "3                      Butterfly Tops for Women Stylish   \n",
       "4                Women's Diva Slub Regular Fit Dyed Top   \n",
       "...                                                 ...   \n",
       "1496  Mi Pocket Power Bank Pro Black 10000mAh | Trip...   \n",
       "1497  Mi 10000mAH Li-Polymer Power Bank 3i with 18W ...   \n",
       "1498  Mi Power Bank 3i 20000mAh | 18W Fast PD Chargi...   \n",
       "1499  Redmi 9A(Midnight Black 3GB RAM 32GB Storage) ...   \n",
       "1500          SanDisk Cruzer Blade 32GB USB Flash Drive   \n",
       "\n",
       "                                            Product_url  \\\n",
       "0     https://www.amazon.in/Lymio-Womens-Regular-Top...   \n",
       "1     https://www.amazon.in/Lymio-Womens-Regular-Top...   \n",
       "2     https://www.amazon.in/DHRUVI-TRENDZ-Printed-Sl...   \n",
       "3     https://www.amazon.in/Bhumi-fashion-Butterfly-...   \n",
       "4     https://www.amazon.in/SIRIL-WomenS-Rayon-117TK...   \n",
       "...                                                 ...   \n",
       "1496  https://www.amazon.in/Pocket-10000mAh-Triple-C...   \n",
       "1497  https://www.amazon.in/10000mAH-Li-Polymer-Powe...   \n",
       "1498  https://www.amazon.in/10000mAH-Li-Polymer-Powe...   \n",
       "1499  https://www.amazon.in/Redmi-9A-2GB-32GB-Storag...   \n",
       "1500  https://www.amazon.in/SanDisk-Cruzer-Blade-Fla...   \n",
       "\n",
       "                      Category  Avg_review  No_of_reviews   Price  \\\n",
       "0     Clothing and accessories         4.4          197.0   379.0   \n",
       "1     Clothing and accessories         4.1          482.0   369.0   \n",
       "2     Clothing and accessories         3.6          648.0   349.0   \n",
       "3     Clothing and accessories         2.0            3.0   459.0   \n",
       "4     Clothing and accessories         3.8          367.0   359.0   \n",
       "...                        ...         ...            ...     ...   \n",
       "1496               Electronics         4.3         5904.0  1399.0   \n",
       "1497               Electronics         4.3        79833.0   999.0   \n",
       "1498               Electronics         4.3        79833.0  1699.0   \n",
       "1499               Electronics         4.2        86791.0  7999.0   \n",
       "1500               Electronics         4.3       179433.0   359.0   \n",
       "\n",
       "              Brand  Average_sales_month  \n",
       "0             Lymio                  500  \n",
       "1             Lymio                  436  \n",
       "2     DHRUVI TRENDZ                  321  \n",
       "3     Bhumi fashion                  284  \n",
       "4             SIRIL                  251  \n",
       "...             ...                  ...  \n",
       "1496          Redmi                 1504  \n",
       "1497          Redmi                 2469  \n",
       "1498          Redmi                 3339  \n",
       "1499          Redmi                 2320  \n",
       "1500        SanDisk                 2588  \n",
       "\n",
       "[1501 rows x 8 columns]"
      ]
     },
     "execution_count": 76,
     "metadata": {},
     "output_type": "execute_result"
    }
   ],
   "source": [
    "df_train_og"
   ]
  },
  {
   "cell_type": "code",
   "execution_count": 77,
   "metadata": {},
   "outputs": [],
   "source": [
    "for i in range(df_train.shape[0]):\n",
    "    df_train['Category'][i] = df_train['Category'][i].lower()\n",
    "    df_train['Brand'][i] = df_train['Brand'][i].lower()"
   ]
  },
  {
   "cell_type": "code",
   "execution_count": 78,
   "metadata": {},
   "outputs": [
    {
     "data": {
      "text/html": [
       "<div>\n",
       "<style scoped>\n",
       "    .dataframe tbody tr th:only-of-type {\n",
       "        vertical-align: middle;\n",
       "    }\n",
       "\n",
       "    .dataframe tbody tr th {\n",
       "        vertical-align: top;\n",
       "    }\n",
       "\n",
       "    .dataframe thead th {\n",
       "        text-align: right;\n",
       "    }\n",
       "</style>\n",
       "<table border=\"1\" class=\"dataframe\">\n",
       "  <thead>\n",
       "    <tr style=\"text-align: right;\">\n",
       "      <th></th>\n",
       "      <th>Product_name</th>\n",
       "      <th>Product_url</th>\n",
       "      <th>Category</th>\n",
       "      <th>Avg_review</th>\n",
       "      <th>No_of_reviews</th>\n",
       "      <th>Price</th>\n",
       "      <th>Brand</th>\n",
       "      <th>Average_sales_month</th>\n",
       "    </tr>\n",
       "  </thead>\n",
       "  <tbody>\n",
       "    <tr>\n",
       "      <th>0</th>\n",
       "      <td>Lymio Women's Regular Top</td>\n",
       "      <td>https://www.amazon.in/Lymio-Womens-Regular-Top...</td>\n",
       "      <td>clothing and accessories</td>\n",
       "      <td>4.4</td>\n",
       "      <td>197.0</td>\n",
       "      <td>379.0</td>\n",
       "      <td>lymio</td>\n",
       "      <td>500</td>\n",
       "    </tr>\n",
       "    <tr>\n",
       "      <th>1</th>\n",
       "      <td>Lymio Women's Regular Color Chocker Neck Half ...</td>\n",
       "      <td>https://www.amazon.in/Lymio-Womens-Regular-Top...</td>\n",
       "      <td>clothing and accessories</td>\n",
       "      <td>4.1</td>\n",
       "      <td>482.0</td>\n",
       "      <td>369.0</td>\n",
       "      <td>lymio</td>\n",
       "      <td>436</td>\n",
       "    </tr>\n",
       "    <tr>\n",
       "      <th>2</th>\n",
       "      <td>Women Printed Slub Rayon Top with Half Sleeves</td>\n",
       "      <td>https://www.amazon.in/DHRUVI-TRENDZ-Printed-Sl...</td>\n",
       "      <td>clothing and accessories</td>\n",
       "      <td>3.6</td>\n",
       "      <td>648.0</td>\n",
       "      <td>349.0</td>\n",
       "      <td>dhruvi trendz</td>\n",
       "      <td>321</td>\n",
       "    </tr>\n",
       "    <tr>\n",
       "      <th>3</th>\n",
       "      <td>Butterfly Tops for Women Stylish</td>\n",
       "      <td>https://www.amazon.in/Bhumi-fashion-Butterfly-...</td>\n",
       "      <td>clothing and accessories</td>\n",
       "      <td>2.0</td>\n",
       "      <td>3.0</td>\n",
       "      <td>459.0</td>\n",
       "      <td>bhumi fashion</td>\n",
       "      <td>284</td>\n",
       "    </tr>\n",
       "    <tr>\n",
       "      <th>4</th>\n",
       "      <td>Women's Diva Slub Regular Fit Dyed Top</td>\n",
       "      <td>https://www.amazon.in/SIRIL-WomenS-Rayon-117TK...</td>\n",
       "      <td>clothing and accessories</td>\n",
       "      <td>3.8</td>\n",
       "      <td>367.0</td>\n",
       "      <td>359.0</td>\n",
       "      <td>siril</td>\n",
       "      <td>251</td>\n",
       "    </tr>\n",
       "  </tbody>\n",
       "</table>\n",
       "</div>"
      ],
      "text/plain": [
       "                                        Product_name  \\\n",
       "0                          Lymio Women's Regular Top   \n",
       "1  Lymio Women's Regular Color Chocker Neck Half ...   \n",
       "2     Women Printed Slub Rayon Top with Half Sleeves   \n",
       "3                   Butterfly Tops for Women Stylish   \n",
       "4             Women's Diva Slub Regular Fit Dyed Top   \n",
       "\n",
       "                                         Product_url  \\\n",
       "0  https://www.amazon.in/Lymio-Womens-Regular-Top...   \n",
       "1  https://www.amazon.in/Lymio-Womens-Regular-Top...   \n",
       "2  https://www.amazon.in/DHRUVI-TRENDZ-Printed-Sl...   \n",
       "3  https://www.amazon.in/Bhumi-fashion-Butterfly-...   \n",
       "4  https://www.amazon.in/SIRIL-WomenS-Rayon-117TK...   \n",
       "\n",
       "                   Category  Avg_review  No_of_reviews  Price          Brand  \\\n",
       "0  clothing and accessories         4.4          197.0  379.0          lymio   \n",
       "1  clothing and accessories         4.1          482.0  369.0          lymio   \n",
       "2  clothing and accessories         3.6          648.0  349.0  dhruvi trendz   \n",
       "3  clothing and accessories         2.0            3.0  459.0  bhumi fashion   \n",
       "4  clothing and accessories         3.8          367.0  359.0          siril   \n",
       "\n",
       "   Average_sales_month  \n",
       "0                  500  \n",
       "1                  436  \n",
       "2                  321  \n",
       "3                  284  \n",
       "4                  251  "
      ]
     },
     "execution_count": 78,
     "metadata": {},
     "output_type": "execute_result"
    }
   ],
   "source": [
    "df_train.head()"
   ]
  },
  {
   "cell_type": "code",
   "execution_count": 79,
   "metadata": {},
   "outputs": [
    {
     "data": {
      "text/plain": [
       "Product_name           0\n",
       "Product_url            0\n",
       "Category               0\n",
       "Avg_review             0\n",
       "No_of_reviews          0\n",
       "Price                  0\n",
       "Brand                  0\n",
       "Average_sales_month    0\n",
       "dtype: int64"
      ]
     },
     "execution_count": 79,
     "metadata": {},
     "output_type": "execute_result"
    }
   ],
   "source": [
    "df_train.isnull().sum()\n"
   ]
  },
  {
   "cell_type": "code",
   "execution_count": 80,
   "metadata": {},
   "outputs": [
    {
     "name": "stdout",
     "output_type": "stream",
     "text": [
      "<class 'pandas.core.frame.DataFrame'>\n",
      "RangeIndex: 1501 entries, 0 to 1500\n",
      "Data columns (total 8 columns):\n",
      " #   Column               Non-Null Count  Dtype  \n",
      "---  ------               --------------  -----  \n",
      " 0   Product_name         1501 non-null   object \n",
      " 1   Product_url          1501 non-null   object \n",
      " 2   Category             1501 non-null   object \n",
      " 3   Avg_review           1501 non-null   float64\n",
      " 4   No_of_reviews        1501 non-null   float64\n",
      " 5   Price                1501 non-null   float64\n",
      " 6   Brand                1501 non-null   object \n",
      " 7   Average_sales_month  1501 non-null   int64  \n",
      "dtypes: float64(3), int64(1), object(4)\n",
      "memory usage: 93.9+ KB\n"
     ]
    }
   ],
   "source": [
    "df_train.info()"
   ]
  },
  {
   "cell_type": "code",
   "execution_count": 81,
   "metadata": {},
   "outputs": [
    {
     "data": {
      "text/html": [
       "<div>\n",
       "<style scoped>\n",
       "    .dataframe tbody tr th:only-of-type {\n",
       "        vertical-align: middle;\n",
       "    }\n",
       "\n",
       "    .dataframe tbody tr th {\n",
       "        vertical-align: top;\n",
       "    }\n",
       "\n",
       "    .dataframe thead th {\n",
       "        text-align: right;\n",
       "    }\n",
       "</style>\n",
       "<table border=\"1\" class=\"dataframe\">\n",
       "  <thead>\n",
       "    <tr style=\"text-align: right;\">\n",
       "      <th></th>\n",
       "      <th>Avg_review</th>\n",
       "      <th>No_of_reviews</th>\n",
       "      <th>Price</th>\n",
       "      <th>Average_sales_month</th>\n",
       "    </tr>\n",
       "  </thead>\n",
       "  <tbody>\n",
       "    <tr>\n",
       "      <th>count</th>\n",
       "      <td>1501.000000</td>\n",
       "      <td>1501.000000</td>\n",
       "      <td>1501.000000</td>\n",
       "      <td>1501.000000</td>\n",
       "    </tr>\n",
       "    <tr>\n",
       "      <th>mean</th>\n",
       "      <td>4.058361</td>\n",
       "      <td>11312.517322</td>\n",
       "      <td>4230.505330</td>\n",
       "      <td>702.013324</td>\n",
       "    </tr>\n",
       "    <tr>\n",
       "      <th>std</th>\n",
       "      <td>0.471146</td>\n",
       "      <td>34765.415938</td>\n",
       "      <td>11855.146388</td>\n",
       "      <td>1066.252901</td>\n",
       "    </tr>\n",
       "    <tr>\n",
       "      <th>min</th>\n",
       "      <td>1.000000</td>\n",
       "      <td>1.000000</td>\n",
       "      <td>10.000000</td>\n",
       "      <td>0.000000</td>\n",
       "    </tr>\n",
       "    <tr>\n",
       "      <th>25%</th>\n",
       "      <td>3.900000</td>\n",
       "      <td>167.000000</td>\n",
       "      <td>399.000000</td>\n",
       "      <td>36.000000</td>\n",
       "    </tr>\n",
       "    <tr>\n",
       "      <th>50%</th>\n",
       "      <td>4.100000</td>\n",
       "      <td>786.000000</td>\n",
       "      <td>690.000000</td>\n",
       "      <td>199.000000</td>\n",
       "    </tr>\n",
       "    <tr>\n",
       "      <th>75%</th>\n",
       "      <td>4.400000</td>\n",
       "      <td>6595.000000</td>\n",
       "      <td>1565.000000</td>\n",
       "      <td>949.000000</td>\n",
       "    </tr>\n",
       "    <tr>\n",
       "      <th>max</th>\n",
       "      <td>5.000000</td>\n",
       "      <td>396978.000000</td>\n",
       "      <td>134990.000000</td>\n",
       "      <td>8345.000000</td>\n",
       "    </tr>\n",
       "  </tbody>\n",
       "</table>\n",
       "</div>"
      ],
      "text/plain": [
       "        Avg_review  No_of_reviews          Price  Average_sales_month\n",
       "count  1501.000000    1501.000000    1501.000000          1501.000000\n",
       "mean      4.058361   11312.517322    4230.505330           702.013324\n",
       "std       0.471146   34765.415938   11855.146388          1066.252901\n",
       "min       1.000000       1.000000      10.000000             0.000000\n",
       "25%       3.900000     167.000000     399.000000            36.000000\n",
       "50%       4.100000     786.000000     690.000000           199.000000\n",
       "75%       4.400000    6595.000000    1565.000000           949.000000\n",
       "max       5.000000  396978.000000  134990.000000          8345.000000"
      ]
     },
     "execution_count": 81,
     "metadata": {},
     "output_type": "execute_result"
    }
   ],
   "source": [
    "df_train.describe()"
   ]
  },
  {
   "cell_type": "code",
   "execution_count": 82,
   "metadata": {},
   "outputs": [],
   "source": [
    "df_train.drop(['Product_name','Product_url'],axis=1,inplace=True)\n",
    "#Taking of the columns which are of no use"
   ]
  },
  {
   "cell_type": "code",
   "execution_count": 83,
   "metadata": {},
   "outputs": [
    {
     "data": {
      "text/html": [
       "<div>\n",
       "<style scoped>\n",
       "    .dataframe tbody tr th:only-of-type {\n",
       "        vertical-align: middle;\n",
       "    }\n",
       "\n",
       "    .dataframe tbody tr th {\n",
       "        vertical-align: top;\n",
       "    }\n",
       "\n",
       "    .dataframe thead th {\n",
       "        text-align: right;\n",
       "    }\n",
       "</style>\n",
       "<table border=\"1\" class=\"dataframe\">\n",
       "  <thead>\n",
       "    <tr style=\"text-align: right;\">\n",
       "      <th></th>\n",
       "      <th>Category</th>\n",
       "      <th>Avg_review</th>\n",
       "      <th>No_of_reviews</th>\n",
       "      <th>Price</th>\n",
       "      <th>Brand</th>\n",
       "      <th>Average_sales_month</th>\n",
       "    </tr>\n",
       "  </thead>\n",
       "  <tbody>\n",
       "    <tr>\n",
       "      <th>0</th>\n",
       "      <td>clothing and accessories</td>\n",
       "      <td>4.4</td>\n",
       "      <td>197.0</td>\n",
       "      <td>379.0</td>\n",
       "      <td>lymio</td>\n",
       "      <td>500</td>\n",
       "    </tr>\n",
       "    <tr>\n",
       "      <th>1</th>\n",
       "      <td>clothing and accessories</td>\n",
       "      <td>4.1</td>\n",
       "      <td>482.0</td>\n",
       "      <td>369.0</td>\n",
       "      <td>lymio</td>\n",
       "      <td>436</td>\n",
       "    </tr>\n",
       "    <tr>\n",
       "      <th>2</th>\n",
       "      <td>clothing and accessories</td>\n",
       "      <td>3.6</td>\n",
       "      <td>648.0</td>\n",
       "      <td>349.0</td>\n",
       "      <td>dhruvi trendz</td>\n",
       "      <td>321</td>\n",
       "    </tr>\n",
       "    <tr>\n",
       "      <th>3</th>\n",
       "      <td>clothing and accessories</td>\n",
       "      <td>2.0</td>\n",
       "      <td>3.0</td>\n",
       "      <td>459.0</td>\n",
       "      <td>bhumi fashion</td>\n",
       "      <td>284</td>\n",
       "    </tr>\n",
       "    <tr>\n",
       "      <th>4</th>\n",
       "      <td>clothing and accessories</td>\n",
       "      <td>3.8</td>\n",
       "      <td>367.0</td>\n",
       "      <td>359.0</td>\n",
       "      <td>siril</td>\n",
       "      <td>251</td>\n",
       "    </tr>\n",
       "    <tr>\n",
       "      <th>...</th>\n",
       "      <td>...</td>\n",
       "      <td>...</td>\n",
       "      <td>...</td>\n",
       "      <td>...</td>\n",
       "      <td>...</td>\n",
       "      <td>...</td>\n",
       "    </tr>\n",
       "    <tr>\n",
       "      <th>1496</th>\n",
       "      <td>electronics</td>\n",
       "      <td>4.3</td>\n",
       "      <td>5904.0</td>\n",
       "      <td>1399.0</td>\n",
       "      <td>redmi</td>\n",
       "      <td>1504</td>\n",
       "    </tr>\n",
       "    <tr>\n",
       "      <th>1497</th>\n",
       "      <td>electronics</td>\n",
       "      <td>4.3</td>\n",
       "      <td>79833.0</td>\n",
       "      <td>999.0</td>\n",
       "      <td>redmi</td>\n",
       "      <td>2469</td>\n",
       "    </tr>\n",
       "    <tr>\n",
       "      <th>1498</th>\n",
       "      <td>electronics</td>\n",
       "      <td>4.3</td>\n",
       "      <td>79833.0</td>\n",
       "      <td>1699.0</td>\n",
       "      <td>redmi</td>\n",
       "      <td>3339</td>\n",
       "    </tr>\n",
       "    <tr>\n",
       "      <th>1499</th>\n",
       "      <td>electronics</td>\n",
       "      <td>4.2</td>\n",
       "      <td>86791.0</td>\n",
       "      <td>7999.0</td>\n",
       "      <td>redmi</td>\n",
       "      <td>2320</td>\n",
       "    </tr>\n",
       "    <tr>\n",
       "      <th>1500</th>\n",
       "      <td>electronics</td>\n",
       "      <td>4.3</td>\n",
       "      <td>179433.0</td>\n",
       "      <td>359.0</td>\n",
       "      <td>sandisk</td>\n",
       "      <td>2588</td>\n",
       "    </tr>\n",
       "  </tbody>\n",
       "</table>\n",
       "<p>1501 rows × 6 columns</p>\n",
       "</div>"
      ],
      "text/plain": [
       "                      Category  Avg_review  No_of_reviews   Price  \\\n",
       "0     clothing and accessories         4.4          197.0   379.0   \n",
       "1     clothing and accessories         4.1          482.0   369.0   \n",
       "2     clothing and accessories         3.6          648.0   349.0   \n",
       "3     clothing and accessories         2.0            3.0   459.0   \n",
       "4     clothing and accessories         3.8          367.0   359.0   \n",
       "...                        ...         ...            ...     ...   \n",
       "1496               electronics         4.3         5904.0  1399.0   \n",
       "1497               electronics         4.3        79833.0   999.0   \n",
       "1498               electronics         4.3        79833.0  1699.0   \n",
       "1499               electronics         4.2        86791.0  7999.0   \n",
       "1500               electronics         4.3       179433.0   359.0   \n",
       "\n",
       "              Brand  Average_sales_month  \n",
       "0             lymio                  500  \n",
       "1             lymio                  436  \n",
       "2     dhruvi trendz                  321  \n",
       "3     bhumi fashion                  284  \n",
       "4             siril                  251  \n",
       "...             ...                  ...  \n",
       "1496          redmi                 1504  \n",
       "1497          redmi                 2469  \n",
       "1498          redmi                 3339  \n",
       "1499          redmi                 2320  \n",
       "1500        sandisk                 2588  \n",
       "\n",
       "[1501 rows x 6 columns]"
      ]
     },
     "execution_count": 83,
     "metadata": {},
     "output_type": "execute_result"
    }
   ],
   "source": [
    "df_train"
   ]
  },
  {
   "cell_type": "markdown",
   "metadata": {},
   "source": [
    "## Exploratory data analysis with dtale library"
   ]
  },
  {
   "cell_type": "code",
   "execution_count": 13,
   "metadata": {},
   "outputs": [],
   "source": [
    "import dtale"
   ]
  },
  {
   "cell_type": "code",
   "execution_count": 14,
   "metadata": {},
   "outputs": [
    {
     "name": "stderr",
     "output_type": "stream",
     "text": [
      "2021-12-22 07:22:16,006 - INFO     - NumExpr defaulting to 8 threads.\n"
     ]
    },
    {
     "data": {
      "text/html": [
       "\n",
       "        <iframe\n",
       "            width=\"100%\"\n",
       "            height=\"475\"\n",
       "            src=\"http://LAPTOP-IIR6723A:40000/dtale/iframe/1\"\n",
       "            frameborder=\"0\"\n",
       "            allowfullscreen\n",
       "        ></iframe>\n",
       "        "
      ],
      "text/plain": [
       "<IPython.lib.display.IFrame at 0x1d17e977fd0>"
      ]
     },
     "metadata": {},
     "output_type": "display_data"
    },
    {
     "data": {
      "text/plain": []
     },
     "execution_count": 14,
     "metadata": {},
     "output_type": "execute_result"
    }
   ],
   "source": [
    "dtale.show(df_train)"
   ]
  },
  {
   "cell_type": "code",
   "execution_count": null,
   "metadata": {},
   "outputs": [],
   "source": []
  },
  {
   "cell_type": "markdown",
   "metadata": {},
   "source": [
    "### Finding correlation between different features using heatmap "
   ]
  },
  {
   "cell_type": "code",
   "execution_count": 84,
   "metadata": {},
   "outputs": [
    {
     "data": {
      "image/png": "[encoded data removed]",
      "text/plain": [
       "<Figure size 432x288 with 2 Axes>"
      ]
     },
     "metadata": {
      "needs_background": "light"
     },
     "output_type": "display_data"
    }
   ],
   "source": [
    "#plt.figure(figsize=(10,5))\n",
    "sns.heatmap(df_train.corr(),annot=True)\n",
    "plt.show()"
   ]
  },
  {
   "cell_type": "code",
   "execution_count": null,
   "metadata": {},
   "outputs": [],
   "source": []
  },
  {
   "cell_type": "markdown",
   "metadata": {},
   "source": [
    "## EDA using KLib library"
   ]
  },
  {
   "cell_type": "code",
   "execution_count": 85,
   "metadata": {},
   "outputs": [],
   "source": [
    "import klib"
   ]
  },
  {
   "cell_type": "code",
   "execution_count": 86,
   "metadata": {},
   "outputs": [
    {
     "data": {
      "text/plain": [
       "GridSpec(6, 2)"
      ]
     },
     "execution_count": 86,
     "metadata": {},
     "output_type": "execute_result"
    },
    {
     "data": {
      "image/png": "[encoded data removed]",
      "text/plain": [
       "<Figure size 1296x1296 with 5 Axes>"
      ]
     },
     "metadata": {
      "needs_background": "light"
     },
     "output_type": "display_data"
    }
   ],
   "source": [
    "klib.cat_plot(df_train)"
   ]
  },
  {
   "cell_type": "code",
   "execution_count": 87,
   "metadata": {},
   "outputs": [
    {
     "data": {
      "text/html": [
       "<style  type=\"text/css\" >\n",
       "#T_1578d_row0_col0,#T_1578d_row0_col1,#T_1578d_row0_col2,#T_1578d_row0_col3,#T_1578d_row1_col0,#T_1578d_row1_col1,#T_1578d_row1_col3,#T_1578d_row2_col0,#T_1578d_row2_col2,#T_1578d_row3_col0,#T_1578d_row3_col1,#T_1578d_row3_col3{\n",
       "            color:  None;\n",
       "        }#T_1578d_row1_col2,#T_1578d_row2_col1,#T_1578d_row2_col3,#T_1578d_row3_col2{\n",
       "            color:  #FF3344;\n",
       "        }</style><table id=\"T_1578d_\" ><thead>    <tr>        <th class=\"blank level0\" ></th>        <th class=\"col_heading level0 col0\" >Avg_review</th>        <th class=\"col_heading level0 col1\" >No_of_reviews</th>        <th class=\"col_heading level0 col2\" >Price</th>        <th class=\"col_heading level0 col3\" >Average_sales_month</th>    </tr></thead><tbody>\n",
       "                <tr>\n",
       "                        <th id=\"T_1578d_level0_row0\" class=\"row_heading level0 row0\" >Avg_review</th>\n",
       "                        <td id=\"T_1578d_row0_col0\" class=\"data row0 col0\" >1.00</td>\n",
       "                        <td id=\"T_1578d_row0_col1\" class=\"data row0 col1\" >0.08</td>\n",
       "                        <td id=\"T_1578d_row0_col2\" class=\"data row0 col2\" >0.10</td>\n",
       "                        <td id=\"T_1578d_row0_col3\" class=\"data row0 col3\" >0.13</td>\n",
       "            </tr>\n",
       "            <tr>\n",
       "                        <th id=\"T_1578d_level0_row1\" class=\"row_heading level0 row1\" >No_of_reviews</th>\n",
       "                        <td id=\"T_1578d_row1_col0\" class=\"data row1 col0\" >0.08</td>\n",
       "                        <td id=\"T_1578d_row1_col1\" class=\"data row1 col1\" >1.00</td>\n",
       "                        <td id=\"T_1578d_row1_col2\" class=\"data row1 col2\" >-0.02</td>\n",
       "                        <td id=\"T_1578d_row1_col3\" class=\"data row1 col3\" >0.46</td>\n",
       "            </tr>\n",
       "            <tr>\n",
       "                        <th id=\"T_1578d_level0_row2\" class=\"row_heading level0 row2\" >Price</th>\n",
       "                        <td id=\"T_1578d_row2_col0\" class=\"data row2 col0\" >0.10</td>\n",
       "                        <td id=\"T_1578d_row2_col1\" class=\"data row2 col1\" >-0.02</td>\n",
       "                        <td id=\"T_1578d_row2_col2\" class=\"data row2 col2\" >1.00</td>\n",
       "                        <td id=\"T_1578d_row2_col3\" class=\"data row2 col3\" >-0.01</td>\n",
       "            </tr>\n",
       "            <tr>\n",
       "                        <th id=\"T_1578d_level0_row3\" class=\"row_heading level0 row3\" >Average_sales_month</th>\n",
       "                        <td id=\"T_1578d_row3_col0\" class=\"data row3 col0\" >0.13</td>\n",
       "                        <td id=\"T_1578d_row3_col1\" class=\"data row3 col1\" >0.46</td>\n",
       "                        <td id=\"T_1578d_row3_col2\" class=\"data row3 col2\" >-0.01</td>\n",
       "                        <td id=\"T_1578d_row3_col3\" class=\"data row3 col3\" >1.00</td>\n",
       "            </tr>\n",
       "    </tbody></table>"
      ],
      "text/plain": [
       "<pandas.io.formats.style.Styler at 0x1d1026de700>"
      ]
     },
     "execution_count": 87,
     "metadata": {},
     "output_type": "execute_result"
    }
   ],
   "source": [
    "klib.corr_mat(df_train)"
   ]
  },
  {
   "cell_type": "code",
   "execution_count": 88,
   "metadata": {},
   "outputs": [
    {
     "data": {
      "text/plain": [
       "<AxesSubplot:title={'center':'Feature-correlation (pearson)'}>"
      ]
     },
     "execution_count": 88,
     "metadata": {},
     "output_type": "execute_result"
    },
    {
     "data": {
      "image/png": "[encoded data removed]",
      "text/plain": [
       "<Figure size 864x720 with 2 Axes>"
      ]
     },
     "metadata": {
      "needs_background": "light"
     },
     "output_type": "display_data"
    }
   ],
   "source": [
    "klib.corr_plot(df_train)"
   ]
  },
  {
   "cell_type": "code",
   "execution_count": 89,
   "metadata": {},
   "outputs": [
    {
     "data": {
      "text/plain": [
       "<AxesSubplot:xlabel='Average_sales_month', ylabel='Density'>"
      ]
     },
     "execution_count": 89,
     "metadata": {},
     "output_type": "execute_result"
    },
    {
     "data": {
      "image/png": "[encoded data removed]",
      "text/plain": [
       "<Figure size 900x180 with 1 Axes>"
      ]
     },
     "metadata": {
      "needs_background": "light"
     },
     "output_type": "display_data"
    },
    {
     "data": {
      "image/png": "[encoded data removed]",
      "text/plain": [
       "<Figure size 900x180 with 1 Axes>"
      ]
     },
     "metadata": {
      "needs_background": "light"
     },
     "output_type": "display_data"
    },
    {
     "data": {
      "image/png": "[encoded data removed]",
      "text/plain": [
       "<Figure size 900x180 with 1 Axes>"
      ]
     },
     "metadata": {
      "needs_background": "light"
     },
     "output_type": "display_data"
    },
    {
     "data": {
      "image/png": "[encoded data removed]",
      "text/plain": [
       "<Figure size 900x180 with 1 Axes>"
      ]
     },
     "metadata": {
      "needs_background": "light"
     },
     "output_type": "display_data"
    }
   ],
   "source": [
    "klib.dist_plot(df_train)"
   ]
  },
  {
   "cell_type": "markdown",
   "metadata": {},
   "source": [
    "# Data cleaning using KLib library"
   ]
  },
  {
   "cell_type": "code",
   "execution_count": 21,
   "metadata": {},
   "outputs": [
    {
     "name": "stdout",
     "output_type": "stream",
     "text": [
      "No missing values found in the dataset.\n"
     ]
    }
   ],
   "source": [
    "klib.missingval_plot(df_train)"
   ]
  },
  {
   "cell_type": "code",
   "execution_count": 22,
   "metadata": {},
   "outputs": [
    {
     "name": "stdout",
     "output_type": "stream",
     "text": [
      "Shape of cleaned data: (1405, 6)Remaining NAs: 0\n",
      "\n",
      "Changes:\n",
      "Dropped rows: 96\n",
      "     of which 96 duplicates. (Rows: [151, 152, 153, 154, 155, 156, 157, 158, 159, 160, 161, 162, 163, 166, 167, 168, 169, 170, 171, 172, 173, 174, 175, 176, 177, 178, 179, 194, 195, 199, 255, 478, 502, 504, 505, 506, 1164, 1360, 1372, 1399, 1428, 1446, 1447, 1448, 1449, 1450, 1451, 1452, 1453, 1454, 1455, 1456, 1457, 1458, 1459, 1460, 1461, 1462, 1463, 1464, 1465, 1466, 1467, 1468, 1469, 1470, 1471, 1472, 1473, 1474, 1475, 1476, 1477, 1478, 1479, 1480, 1481, 1482, 1483, 1484, 1485, 1486, 1487, 1488, 1489, 1490, 1491, 1492, 1493, 1494, 1495, 1496, 1497, 1498, 1499, 1500])\n",
      "Dropped columns: 0\n",
      "     of which 0 single valued.     Columns: []\n",
      "Dropped missing values: 0\n",
      "Reduced memory by at least: 0.04 MB (-57.14%)\n",
      "\n"
     ]
    }
   ],
   "source": [
    "df_train = klib.data_cleaning(df_train)"
   ]
  },
  {
   "cell_type": "code",
   "execution_count": 23,
   "metadata": {},
   "outputs": [
    {
     "data": {
      "text/html": [
       "<div>\n",
       "<style scoped>\n",
       "    .dataframe tbody tr th:only-of-type {\n",
       "        vertical-align: middle;\n",
       "    }\n",
       "\n",
       "    .dataframe tbody tr th {\n",
       "        vertical-align: top;\n",
       "    }\n",
       "\n",
       "    .dataframe thead th {\n",
       "        text-align: right;\n",
       "    }\n",
       "</style>\n",
       "<table border=\"1\" class=\"dataframe\">\n",
       "  <thead>\n",
       "    <tr style=\"text-align: right;\">\n",
       "      <th></th>\n",
       "      <th>category</th>\n",
       "      <th>avg_review</th>\n",
       "      <th>no_of_reviews</th>\n",
       "      <th>price</th>\n",
       "      <th>brand</th>\n",
       "      <th>average_sales_month</th>\n",
       "    </tr>\n",
       "  </thead>\n",
       "  <tbody>\n",
       "    <tr>\n",
       "      <th>0</th>\n",
       "      <td>clothing and accessories</td>\n",
       "      <td>4.4</td>\n",
       "      <td>197.0</td>\n",
       "      <td>379.0</td>\n",
       "      <td>lymio</td>\n",
       "      <td>500</td>\n",
       "    </tr>\n",
       "    <tr>\n",
       "      <th>1</th>\n",
       "      <td>clothing and accessories</td>\n",
       "      <td>4.1</td>\n",
       "      <td>482.0</td>\n",
       "      <td>369.0</td>\n",
       "      <td>lymio</td>\n",
       "      <td>436</td>\n",
       "    </tr>\n",
       "    <tr>\n",
       "      <th>2</th>\n",
       "      <td>clothing and accessories</td>\n",
       "      <td>3.6</td>\n",
       "      <td>648.0</td>\n",
       "      <td>349.0</td>\n",
       "      <td>dhruvi trendz</td>\n",
       "      <td>321</td>\n",
       "    </tr>\n",
       "    <tr>\n",
       "      <th>3</th>\n",
       "      <td>clothing and accessories</td>\n",
       "      <td>2.0</td>\n",
       "      <td>3.0</td>\n",
       "      <td>459.0</td>\n",
       "      <td>bhumi fashion</td>\n",
       "      <td>284</td>\n",
       "    </tr>\n",
       "    <tr>\n",
       "      <th>4</th>\n",
       "      <td>clothing and accessories</td>\n",
       "      <td>3.8</td>\n",
       "      <td>367.0</td>\n",
       "      <td>359.0</td>\n",
       "      <td>siril</td>\n",
       "      <td>251</td>\n",
       "    </tr>\n",
       "    <tr>\n",
       "      <th>...</th>\n",
       "      <td>...</td>\n",
       "      <td>...</td>\n",
       "      <td>...</td>\n",
       "      <td>...</td>\n",
       "      <td>...</td>\n",
       "      <td>...</td>\n",
       "    </tr>\n",
       "    <tr>\n",
       "      <th>1400</th>\n",
       "      <td>electronics</td>\n",
       "      <td>4.3</td>\n",
       "      <td>6510.0</td>\n",
       "      <td>549.0</td>\n",
       "      <td>redgear</td>\n",
       "      <td>951</td>\n",
       "    </tr>\n",
       "    <tr>\n",
       "      <th>1401</th>\n",
       "      <td>electronics</td>\n",
       "      <td>4.6</td>\n",
       "      <td>6532.0</td>\n",
       "      <td>1495.0</td>\n",
       "      <td>logitech</td>\n",
       "      <td>449</td>\n",
       "    </tr>\n",
       "    <tr>\n",
       "      <th>1402</th>\n",
       "      <td>electronics</td>\n",
       "      <td>4.6</td>\n",
       "      <td>4123.0</td>\n",
       "      <td>1482.0</td>\n",
       "      <td>logitech</td>\n",
       "      <td>411</td>\n",
       "    </tr>\n",
       "    <tr>\n",
       "      <th>1403</th>\n",
       "      <td>electronics</td>\n",
       "      <td>4.2</td>\n",
       "      <td>28964.0</td>\n",
       "      <td>229.0</td>\n",
       "      <td>redmi</td>\n",
       "      <td>1296</td>\n",
       "    </tr>\n",
       "    <tr>\n",
       "      <th>1404</th>\n",
       "      <td>electronics</td>\n",
       "      <td>4.4</td>\n",
       "      <td>18407.0</td>\n",
       "      <td>649.0</td>\n",
       "      <td>dell</td>\n",
       "      <td>1279</td>\n",
       "    </tr>\n",
       "  </tbody>\n",
       "</table>\n",
       "<p>1405 rows × 6 columns</p>\n",
       "</div>"
      ],
      "text/plain": [
       "                      category  avg_review  no_of_reviews   price  \\\n",
       "0     clothing and accessories         4.4          197.0   379.0   \n",
       "1     clothing and accessories         4.1          482.0   369.0   \n",
       "2     clothing and accessories         3.6          648.0   349.0   \n",
       "3     clothing and accessories         2.0            3.0   459.0   \n",
       "4     clothing and accessories         3.8          367.0   359.0   \n",
       "...                        ...         ...            ...     ...   \n",
       "1400               electronics         4.3         6510.0   549.0   \n",
       "1401               electronics         4.6         6532.0  1495.0   \n",
       "1402               electronics         4.6         4123.0  1482.0   \n",
       "1403               electronics         4.2        28964.0   229.0   \n",
       "1404               electronics         4.4        18407.0   649.0   \n",
       "\n",
       "              brand  average_sales_month  \n",
       "0             lymio                  500  \n",
       "1             lymio                  436  \n",
       "2     dhruvi trendz                  321  \n",
       "3     bhumi fashion                  284  \n",
       "4             siril                  251  \n",
       "...             ...                  ...  \n",
       "1400        redgear                  951  \n",
       "1401       logitech                  449  \n",
       "1402       logitech                  411  \n",
       "1403          redmi                 1296  \n",
       "1404           dell                 1279  \n",
       "\n",
       "[1405 rows x 6 columns]"
      ]
     },
     "execution_count": 23,
     "metadata": {},
     "output_type": "execute_result"
    }
   ],
   "source": [
    "klib.clean_column_names(df_train) # cleans and standardizes column names, also called "
   ]
  },
  {
   "cell_type": "code",
   "execution_count": 24,
   "metadata": {},
   "outputs": [
    {
     "name": "stdout",
     "output_type": "stream",
     "text": [
      "<class 'pandas.core.frame.DataFrame'>\n",
      "RangeIndex: 1405 entries, 0 to 1404\n",
      "Data columns (total 6 columns):\n",
      " #   Column               Non-Null Count  Dtype   \n",
      "---  ------               --------------  -----   \n",
      " 0   category             1405 non-null   category\n",
      " 1   avg_review           1405 non-null   float32 \n",
      " 2   no_of_reviews        1405 non-null   float32 \n",
      " 3   price                1405 non-null   float32 \n",
      " 4   brand                1405 non-null   string  \n",
      " 5   average_sales_month  1405 non-null   int16   \n",
      "dtypes: category(1), float32(3), int16(1), string(1)\n",
      "memory usage: 31.8 KB\n"
     ]
    }
   ],
   "source": [
    "df_train.info()\n"
   ]
  },
  {
   "cell_type": "code",
   "execution_count": 25,
   "metadata": {},
   "outputs": [
    {
     "name": "stdout",
     "output_type": "stream",
     "text": [
      "<class 'pandas.core.frame.DataFrame'>\n",
      "RangeIndex: 1405 entries, 0 to 1404\n",
      "Data columns (total 6 columns):\n",
      " #   Column               Non-Null Count  Dtype   \n",
      "---  ------               --------------  -----   \n",
      " 0   category             1405 non-null   category\n",
      " 1   avg_review           1405 non-null   Float32 \n",
      " 2   no_of_reviews        1405 non-null   Float32 \n",
      " 3   price                1405 non-null   Float32 \n",
      " 4   brand                1405 non-null   string  \n",
      " 5   average_sales_month  1405 non-null   int16   \n",
      "dtypes: Float32(3), category(1), int16(1), string(1)\n",
      "memory usage: 35.9 KB\n"
     ]
    }
   ],
   "source": [
    "df_train = klib.convert_datatypes(df_train) # converts existing to more efficient dtypes, also called inside data_cleaning()\n",
    "df_train.info()"
   ]
  },
  {
   "cell_type": "code",
   "execution_count": 26,
   "metadata": {},
   "outputs": [
    {
     "data": {
      "text/html": [
       "<div>\n",
       "<style scoped>\n",
       "    .dataframe tbody tr th:only-of-type {\n",
       "        vertical-align: middle;\n",
       "    }\n",
       "\n",
       "    .dataframe tbody tr th {\n",
       "        vertical-align: top;\n",
       "    }\n",
       "\n",
       "    .dataframe thead th {\n",
       "        text-align: right;\n",
       "    }\n",
       "</style>\n",
       "<table border=\"1\" class=\"dataframe\">\n",
       "  <thead>\n",
       "    <tr style=\"text-align: right;\">\n",
       "      <th></th>\n",
       "      <th>category</th>\n",
       "      <th>avg_review</th>\n",
       "      <th>no_of_reviews</th>\n",
       "      <th>price</th>\n",
       "      <th>brand</th>\n",
       "      <th>average_sales_month</th>\n",
       "    </tr>\n",
       "  </thead>\n",
       "  <tbody>\n",
       "    <tr>\n",
       "      <th>0</th>\n",
       "      <td>clothing and accessories</td>\n",
       "      <td>4.4</td>\n",
       "      <td>197.0</td>\n",
       "      <td>379.0</td>\n",
       "      <td>lymio</td>\n",
       "      <td>500</td>\n",
       "    </tr>\n",
       "    <tr>\n",
       "      <th>1</th>\n",
       "      <td>clothing and accessories</td>\n",
       "      <td>4.1</td>\n",
       "      <td>482.0</td>\n",
       "      <td>369.0</td>\n",
       "      <td>lymio</td>\n",
       "      <td>436</td>\n",
       "    </tr>\n",
       "    <tr>\n",
       "      <th>2</th>\n",
       "      <td>clothing and accessories</td>\n",
       "      <td>3.6</td>\n",
       "      <td>648.0</td>\n",
       "      <td>349.0</td>\n",
       "      <td>dhruvi trendz</td>\n",
       "      <td>321</td>\n",
       "    </tr>\n",
       "    <tr>\n",
       "      <th>3</th>\n",
       "      <td>clothing and accessories</td>\n",
       "      <td>2.0</td>\n",
       "      <td>3.0</td>\n",
       "      <td>459.0</td>\n",
       "      <td>bhumi fashion</td>\n",
       "      <td>284</td>\n",
       "    </tr>\n",
       "    <tr>\n",
       "      <th>4</th>\n",
       "      <td>clothing and accessories</td>\n",
       "      <td>3.8</td>\n",
       "      <td>367.0</td>\n",
       "      <td>359.0</td>\n",
       "      <td>siril</td>\n",
       "      <td>251</td>\n",
       "    </tr>\n",
       "    <tr>\n",
       "      <th>...</th>\n",
       "      <td>...</td>\n",
       "      <td>...</td>\n",
       "      <td>...</td>\n",
       "      <td>...</td>\n",
       "      <td>...</td>\n",
       "      <td>...</td>\n",
       "    </tr>\n",
       "    <tr>\n",
       "      <th>1400</th>\n",
       "      <td>electronics</td>\n",
       "      <td>4.3</td>\n",
       "      <td>6510.0</td>\n",
       "      <td>549.0</td>\n",
       "      <td>redgear</td>\n",
       "      <td>951</td>\n",
       "    </tr>\n",
       "    <tr>\n",
       "      <th>1401</th>\n",
       "      <td>electronics</td>\n",
       "      <td>4.6</td>\n",
       "      <td>6532.0</td>\n",
       "      <td>1495.0</td>\n",
       "      <td>logitech</td>\n",
       "      <td>449</td>\n",
       "    </tr>\n",
       "    <tr>\n",
       "      <th>1402</th>\n",
       "      <td>electronics</td>\n",
       "      <td>4.6</td>\n",
       "      <td>4123.0</td>\n",
       "      <td>1482.0</td>\n",
       "      <td>logitech</td>\n",
       "      <td>411</td>\n",
       "    </tr>\n",
       "    <tr>\n",
       "      <th>1403</th>\n",
       "      <td>electronics</td>\n",
       "      <td>4.2</td>\n",
       "      <td>28964.0</td>\n",
       "      <td>229.0</td>\n",
       "      <td>redmi</td>\n",
       "      <td>1296</td>\n",
       "    </tr>\n",
       "    <tr>\n",
       "      <th>1404</th>\n",
       "      <td>electronics</td>\n",
       "      <td>4.4</td>\n",
       "      <td>18407.0</td>\n",
       "      <td>649.0</td>\n",
       "      <td>dell</td>\n",
       "      <td>1279</td>\n",
       "    </tr>\n",
       "  </tbody>\n",
       "</table>\n",
       "<p>1405 rows × 6 columns</p>\n",
       "</div>"
      ],
      "text/plain": [
       "                      category  avg_review  no_of_reviews   price  \\\n",
       "0     clothing and accessories         4.4          197.0   379.0   \n",
       "1     clothing and accessories         4.1          482.0   369.0   \n",
       "2     clothing and accessories         3.6          648.0   349.0   \n",
       "3     clothing and accessories         2.0            3.0   459.0   \n",
       "4     clothing and accessories         3.8          367.0   359.0   \n",
       "...                        ...         ...            ...     ...   \n",
       "1400               electronics         4.3         6510.0   549.0   \n",
       "1401               electronics         4.6         6532.0  1495.0   \n",
       "1402               electronics         4.6         4123.0  1482.0   \n",
       "1403               electronics         4.2        28964.0   229.0   \n",
       "1404               electronics         4.4        18407.0   649.0   \n",
       "\n",
       "              brand  average_sales_month  \n",
       "0             lymio                  500  \n",
       "1             lymio                  436  \n",
       "2     dhruvi trendz                  321  \n",
       "3     bhumi fashion                  284  \n",
       "4             siril                  251  \n",
       "...             ...                  ...  \n",
       "1400        redgear                  951  \n",
       "1401       logitech                  449  \n",
       "1402       logitech                  411  \n",
       "1403          redmi                 1296  \n",
       "1404           dell                 1279  \n",
       "\n",
       "[1405 rows x 6 columns]"
      ]
     },
     "execution_count": 26,
     "metadata": {},
     "output_type": "execute_result"
    }
   ],
   "source": [
    "klib.mv_col_handling(df_train)"
   ]
  },
  {
   "cell_type": "code",
   "execution_count": null,
   "metadata": {},
   "outputs": [],
   "source": []
  },
  {
   "cell_type": "markdown",
   "metadata": {},
   "source": [
    "# Pre processing task before model building"
   ]
  },
  {
   "cell_type": "markdown",
   "metadata": {},
   "source": [
    "### Label Encoding"
   ]
  },
  {
   "cell_type": "code",
   "execution_count": 27,
   "metadata": {},
   "outputs": [],
   "source": [
    "from sklearn.preprocessing import LabelEncoder\n",
    "le=LabelEncoder()"
   ]
  },
  {
   "cell_type": "code",
   "execution_count": 28,
   "metadata": {},
   "outputs": [],
   "source": [
    "#df_train_std = df_train"
   ]
  },
  {
   "cell_type": "code",
   "execution_count": 29,
   "metadata": {},
   "outputs": [],
   "source": [
    "df_train['category_le']= le.fit_transform(df_train['category'])\n",
    "df_train['brand_le']= le.fit_transform(df_train['brand'])"
   ]
  },
  {
   "cell_type": "code",
   "execution_count": 30,
   "metadata": {},
   "outputs": [
    {
     "data": {
      "text/html": [
       "<div>\n",
       "<style scoped>\n",
       "    .dataframe tbody tr th:only-of-type {\n",
       "        vertical-align: middle;\n",
       "    }\n",
       "\n",
       "    .dataframe tbody tr th {\n",
       "        vertical-align: top;\n",
       "    }\n",
       "\n",
       "    .dataframe thead th {\n",
       "        text-align: right;\n",
       "    }\n",
       "</style>\n",
       "<table border=\"1\" class=\"dataframe\">\n",
       "  <thead>\n",
       "    <tr style=\"text-align: right;\">\n",
       "      <th></th>\n",
       "      <th>category</th>\n",
       "      <th>avg_review</th>\n",
       "      <th>no_of_reviews</th>\n",
       "      <th>price</th>\n",
       "      <th>brand</th>\n",
       "      <th>average_sales_month</th>\n",
       "      <th>category_le</th>\n",
       "      <th>brand_le</th>\n",
       "    </tr>\n",
       "  </thead>\n",
       "  <tbody>\n",
       "    <tr>\n",
       "      <th>0</th>\n",
       "      <td>clothing and accessories</td>\n",
       "      <td>4.4</td>\n",
       "      <td>197.0</td>\n",
       "      <td>379.0</td>\n",
       "      <td>lymio</td>\n",
       "      <td>500</td>\n",
       "      <td>0</td>\n",
       "      <td>221</td>\n",
       "    </tr>\n",
       "    <tr>\n",
       "      <th>1</th>\n",
       "      <td>clothing and accessories</td>\n",
       "      <td>4.1</td>\n",
       "      <td>482.0</td>\n",
       "      <td>369.0</td>\n",
       "      <td>lymio</td>\n",
       "      <td>436</td>\n",
       "      <td>0</td>\n",
       "      <td>221</td>\n",
       "    </tr>\n",
       "    <tr>\n",
       "      <th>2</th>\n",
       "      <td>clothing and accessories</td>\n",
       "      <td>3.6</td>\n",
       "      <td>648.0</td>\n",
       "      <td>349.0</td>\n",
       "      <td>dhruvi trendz</td>\n",
       "      <td>321</td>\n",
       "      <td>0</td>\n",
       "      <td>93</td>\n",
       "    </tr>\n",
       "    <tr>\n",
       "      <th>3</th>\n",
       "      <td>clothing and accessories</td>\n",
       "      <td>2.0</td>\n",
       "      <td>3.0</td>\n",
       "      <td>459.0</td>\n",
       "      <td>bhumi fashion</td>\n",
       "      <td>284</td>\n",
       "      <td>0</td>\n",
       "      <td>47</td>\n",
       "    </tr>\n",
       "    <tr>\n",
       "      <th>4</th>\n",
       "      <td>clothing and accessories</td>\n",
       "      <td>3.8</td>\n",
       "      <td>367.0</td>\n",
       "      <td>359.0</td>\n",
       "      <td>siril</td>\n",
       "      <td>251</td>\n",
       "      <td>0</td>\n",
       "      <td>343</td>\n",
       "    </tr>\n",
       "    <tr>\n",
       "      <th>...</th>\n",
       "      <td>...</td>\n",
       "      <td>...</td>\n",
       "      <td>...</td>\n",
       "      <td>...</td>\n",
       "      <td>...</td>\n",
       "      <td>...</td>\n",
       "      <td>...</td>\n",
       "      <td>...</td>\n",
       "    </tr>\n",
       "    <tr>\n",
       "      <th>1400</th>\n",
       "      <td>electronics</td>\n",
       "      <td>4.3</td>\n",
       "      <td>6510.0</td>\n",
       "      <td>549.0</td>\n",
       "      <td>redgear</td>\n",
       "      <td>951</td>\n",
       "      <td>1</td>\n",
       "      <td>315</td>\n",
       "    </tr>\n",
       "    <tr>\n",
       "      <th>1401</th>\n",
       "      <td>electronics</td>\n",
       "      <td>4.6</td>\n",
       "      <td>6532.0</td>\n",
       "      <td>1495.0</td>\n",
       "      <td>logitech</td>\n",
       "      <td>449</td>\n",
       "      <td>1</td>\n",
       "      <td>218</td>\n",
       "    </tr>\n",
       "    <tr>\n",
       "      <th>1402</th>\n",
       "      <td>electronics</td>\n",
       "      <td>4.6</td>\n",
       "      <td>4123.0</td>\n",
       "      <td>1482.0</td>\n",
       "      <td>logitech</td>\n",
       "      <td>411</td>\n",
       "      <td>1</td>\n",
       "      <td>218</td>\n",
       "    </tr>\n",
       "    <tr>\n",
       "      <th>1403</th>\n",
       "      <td>electronics</td>\n",
       "      <td>4.2</td>\n",
       "      <td>28964.0</td>\n",
       "      <td>229.0</td>\n",
       "      <td>redmi</td>\n",
       "      <td>1296</td>\n",
       "      <td>1</td>\n",
       "      <td>316</td>\n",
       "    </tr>\n",
       "    <tr>\n",
       "      <th>1404</th>\n",
       "      <td>electronics</td>\n",
       "      <td>4.4</td>\n",
       "      <td>18407.0</td>\n",
       "      <td>649.0</td>\n",
       "      <td>dell</td>\n",
       "      <td>1279</td>\n",
       "      <td>1</td>\n",
       "      <td>88</td>\n",
       "    </tr>\n",
       "  </tbody>\n",
       "</table>\n",
       "<p>1405 rows × 8 columns</p>\n",
       "</div>"
      ],
      "text/plain": [
       "                      category  avg_review  no_of_reviews   price  \\\n",
       "0     clothing and accessories         4.4          197.0   379.0   \n",
       "1     clothing and accessories         4.1          482.0   369.0   \n",
       "2     clothing and accessories         3.6          648.0   349.0   \n",
       "3     clothing and accessories         2.0            3.0   459.0   \n",
       "4     clothing and accessories         3.8          367.0   359.0   \n",
       "...                        ...         ...            ...     ...   \n",
       "1400               electronics         4.3         6510.0   549.0   \n",
       "1401               electronics         4.6         6532.0  1495.0   \n",
       "1402               electronics         4.6         4123.0  1482.0   \n",
       "1403               electronics         4.2        28964.0   229.0   \n",
       "1404               electronics         4.4        18407.0   649.0   \n",
       "\n",
       "              brand  average_sales_month  category_le  brand_le  \n",
       "0             lymio                  500            0       221  \n",
       "1             lymio                  436            0       221  \n",
       "2     dhruvi trendz                  321            0        93  \n",
       "3     bhumi fashion                  284            0        47  \n",
       "4             siril                  251            0       343  \n",
       "...             ...                  ...          ...       ...  \n",
       "1400        redgear                  951            1       315  \n",
       "1401       logitech                  449            1       218  \n",
       "1402       logitech                  411            1       218  \n",
       "1403          redmi                 1296            1       316  \n",
       "1404           dell                 1279            1        88  \n",
       "\n",
       "[1405 rows x 8 columns]"
      ]
     },
     "execution_count": 30,
     "metadata": {},
     "output_type": "execute_result"
    }
   ],
   "source": [
    "df_train"
   ]
  },
  {
   "cell_type": "code",
   "execution_count": 31,
   "metadata": {},
   "outputs": [
    {
     "data": {
      "text/plain": [
       "'electronics'"
      ]
     },
     "execution_count": 31,
     "metadata": {},
     "output_type": "execute_result"
    }
   ],
   "source": [
    "df_train['category'][1020]"
   ]
  },
  {
   "cell_type": "code",
   "execution_count": 32,
   "metadata": {},
   "outputs": [],
   "source": [
    "# 0 : Clothing\n",
    "# 1 : Electronics\n",
    "# 2 : Health care\n",
    "#print('''The label encoder has encoded the categories as :\n",
    "#        0. Clothing\n",
    "#        1. Electronics\n",
    "#        2. Health care''')"
   ]
  },
  {
   "cell_type": "code",
   "execution_count": 33,
   "metadata": {},
   "outputs": [],
   "source": [
    "#df_train = df_train.reset_index()"
   ]
  },
  {
   "cell_type": "code",
   "execution_count": 34,
   "metadata": {},
   "outputs": [],
   "source": [
    "X=df_train.drop('average_sales_month',axis=1)\n",
    "#X = df_train.drop('category', axis = 1)\n",
    "#X = df_train.drop('brand', axis = 1)"
   ]
  },
  {
   "cell_type": "code",
   "execution_count": 35,
   "metadata": {},
   "outputs": [],
   "source": [
    "X = X.drop('category', axis = 1)\n"
   ]
  },
  {
   "cell_type": "code",
   "execution_count": 36,
   "metadata": {},
   "outputs": [],
   "source": [
    "X = X.drop('brand', axis = 1)"
   ]
  },
  {
   "cell_type": "code",
   "execution_count": 37,
   "metadata": {},
   "outputs": [
    {
     "data": {
      "text/html": [
       "<div>\n",
       "<style scoped>\n",
       "    .dataframe tbody tr th:only-of-type {\n",
       "        vertical-align: middle;\n",
       "    }\n",
       "\n",
       "    .dataframe tbody tr th {\n",
       "        vertical-align: top;\n",
       "    }\n",
       "\n",
       "    .dataframe thead th {\n",
       "        text-align: right;\n",
       "    }\n",
       "</style>\n",
       "<table border=\"1\" class=\"dataframe\">\n",
       "  <thead>\n",
       "    <tr style=\"text-align: right;\">\n",
       "      <th></th>\n",
       "      <th>avg_review</th>\n",
       "      <th>no_of_reviews</th>\n",
       "      <th>price</th>\n",
       "      <th>category_le</th>\n",
       "      <th>brand_le</th>\n",
       "    </tr>\n",
       "  </thead>\n",
       "  <tbody>\n",
       "    <tr>\n",
       "      <th>0</th>\n",
       "      <td>4.4</td>\n",
       "      <td>197.0</td>\n",
       "      <td>379.0</td>\n",
       "      <td>0</td>\n",
       "      <td>221</td>\n",
       "    </tr>\n",
       "    <tr>\n",
       "      <th>1</th>\n",
       "      <td>4.1</td>\n",
       "      <td>482.0</td>\n",
       "      <td>369.0</td>\n",
       "      <td>0</td>\n",
       "      <td>221</td>\n",
       "    </tr>\n",
       "    <tr>\n",
       "      <th>2</th>\n",
       "      <td>3.6</td>\n",
       "      <td>648.0</td>\n",
       "      <td>349.0</td>\n",
       "      <td>0</td>\n",
       "      <td>93</td>\n",
       "    </tr>\n",
       "    <tr>\n",
       "      <th>3</th>\n",
       "      <td>2.0</td>\n",
       "      <td>3.0</td>\n",
       "      <td>459.0</td>\n",
       "      <td>0</td>\n",
       "      <td>47</td>\n",
       "    </tr>\n",
       "    <tr>\n",
       "      <th>4</th>\n",
       "      <td>3.8</td>\n",
       "      <td>367.0</td>\n",
       "      <td>359.0</td>\n",
       "      <td>0</td>\n",
       "      <td>343</td>\n",
       "    </tr>\n",
       "    <tr>\n",
       "      <th>...</th>\n",
       "      <td>...</td>\n",
       "      <td>...</td>\n",
       "      <td>...</td>\n",
       "      <td>...</td>\n",
       "      <td>...</td>\n",
       "    </tr>\n",
       "    <tr>\n",
       "      <th>1400</th>\n",
       "      <td>4.3</td>\n",
       "      <td>6510.0</td>\n",
       "      <td>549.0</td>\n",
       "      <td>1</td>\n",
       "      <td>315</td>\n",
       "    </tr>\n",
       "    <tr>\n",
       "      <th>1401</th>\n",
       "      <td>4.6</td>\n",
       "      <td>6532.0</td>\n",
       "      <td>1495.0</td>\n",
       "      <td>1</td>\n",
       "      <td>218</td>\n",
       "    </tr>\n",
       "    <tr>\n",
       "      <th>1402</th>\n",
       "      <td>4.6</td>\n",
       "      <td>4123.0</td>\n",
       "      <td>1482.0</td>\n",
       "      <td>1</td>\n",
       "      <td>218</td>\n",
       "    </tr>\n",
       "    <tr>\n",
       "      <th>1403</th>\n",
       "      <td>4.2</td>\n",
       "      <td>28964.0</td>\n",
       "      <td>229.0</td>\n",
       "      <td>1</td>\n",
       "      <td>316</td>\n",
       "    </tr>\n",
       "    <tr>\n",
       "      <th>1404</th>\n",
       "      <td>4.4</td>\n",
       "      <td>18407.0</td>\n",
       "      <td>649.0</td>\n",
       "      <td>1</td>\n",
       "      <td>88</td>\n",
       "    </tr>\n",
       "  </tbody>\n",
       "</table>\n",
       "<p>1405 rows × 5 columns</p>\n",
       "</div>"
      ],
      "text/plain": [
       "      avg_review  no_of_reviews   price  category_le  brand_le\n",
       "0            4.4          197.0   379.0            0       221\n",
       "1            4.1          482.0   369.0            0       221\n",
       "2            3.6          648.0   349.0            0        93\n",
       "3            2.0            3.0   459.0            0        47\n",
       "4            3.8          367.0   359.0            0       343\n",
       "...          ...            ...     ...          ...       ...\n",
       "1400         4.3         6510.0   549.0            1       315\n",
       "1401         4.6         6532.0  1495.0            1       218\n",
       "1402         4.6         4123.0  1482.0            1       218\n",
       "1403         4.2        28964.0   229.0            1       316\n",
       "1404         4.4        18407.0   649.0            1        88\n",
       "\n",
       "[1405 rows x 5 columns]"
      ]
     },
     "execution_count": 37,
     "metadata": {},
     "output_type": "execute_result"
    }
   ],
   "source": [
    "X"
   ]
  },
  {
   "cell_type": "code",
   "execution_count": null,
   "metadata": {},
   "outputs": [],
   "source": []
  },
  {
   "cell_type": "code",
   "execution_count": 38,
   "metadata": {},
   "outputs": [],
   "source": [
    "Y = df_train['average_sales_month']"
   ]
  },
  {
   "cell_type": "code",
   "execution_count": 39,
   "metadata": {},
   "outputs": [
    {
     "data": {
      "text/plain": [
       "0        500\n",
       "1        436\n",
       "2        321\n",
       "3        284\n",
       "4        251\n",
       "        ... \n",
       "1400     951\n",
       "1401     449\n",
       "1402     411\n",
       "1403    1296\n",
       "1404    1279\n",
       "Name: average_sales_month, Length: 1405, dtype: int16"
      ]
     },
     "execution_count": 39,
     "metadata": {},
     "output_type": "execute_result"
    }
   ],
   "source": [
    "Y"
   ]
  },
  {
   "cell_type": "code",
   "execution_count": 40,
   "metadata": {},
   "outputs": [],
   "source": [
    "## Splitting data into training and testing \n",
    "\n",
    "from sklearn.model_selection import train_test_split\n",
    "\n",
    "X_train, X_test, Y_train, Y_test = train_test_split(X,Y, random_state=101, test_size=0.2)"
   ]
  },
  {
   "cell_type": "code",
   "execution_count": 41,
   "metadata": {},
   "outputs": [
    {
     "data": {
      "text/html": [
       "<div>\n",
       "<style scoped>\n",
       "    .dataframe tbody tr th:only-of-type {\n",
       "        vertical-align: middle;\n",
       "    }\n",
       "\n",
       "    .dataframe tbody tr th {\n",
       "        vertical-align: top;\n",
       "    }\n",
       "\n",
       "    .dataframe thead th {\n",
       "        text-align: right;\n",
       "    }\n",
       "</style>\n",
       "<table border=\"1\" class=\"dataframe\">\n",
       "  <thead>\n",
       "    <tr style=\"text-align: right;\">\n",
       "      <th></th>\n",
       "      <th>avg_review</th>\n",
       "      <th>no_of_reviews</th>\n",
       "      <th>price</th>\n",
       "      <th>category_le</th>\n",
       "      <th>brand_le</th>\n",
       "    </tr>\n",
       "  </thead>\n",
       "  <tbody>\n",
       "    <tr>\n",
       "      <th>1088</th>\n",
       "      <td>4.3</td>\n",
       "      <td>118593.0</td>\n",
       "      <td>1990.0</td>\n",
       "      <td>1</td>\n",
       "      <td>268</td>\n",
       "    </tr>\n",
       "    <tr>\n",
       "      <th>126</th>\n",
       "      <td>4.3</td>\n",
       "      <td>18.0</td>\n",
       "      <td>1097.0</td>\n",
       "      <td>0</td>\n",
       "      <td>400</td>\n",
       "    </tr>\n",
       "    <tr>\n",
       "      <th>567</th>\n",
       "      <td>1.0</td>\n",
       "      <td>4.0</td>\n",
       "      <td>649.0</td>\n",
       "      <td>2</td>\n",
       "      <td>219</td>\n",
       "    </tr>\n",
       "    <tr>\n",
       "      <th>63</th>\n",
       "      <td>2.7</td>\n",
       "      <td>15.0</td>\n",
       "      <td>1119.0</td>\n",
       "      <td>0</td>\n",
       "      <td>406</td>\n",
       "    </tr>\n",
       "    <tr>\n",
       "      <th>137</th>\n",
       "      <td>4.0</td>\n",
       "      <td>82.0</td>\n",
       "      <td>519.0</td>\n",
       "      <td>0</td>\n",
       "      <td>400</td>\n",
       "    </tr>\n",
       "    <tr>\n",
       "      <th>...</th>\n",
       "      <td>...</td>\n",
       "      <td>...</td>\n",
       "      <td>...</td>\n",
       "      <td>...</td>\n",
       "      <td>...</td>\n",
       "    </tr>\n",
       "    <tr>\n",
       "      <th>973</th>\n",
       "      <td>3.6</td>\n",
       "      <td>1207.0</td>\n",
       "      <td>2199.0</td>\n",
       "      <td>1</td>\n",
       "      <td>324</td>\n",
       "    </tr>\n",
       "    <tr>\n",
       "      <th>75</th>\n",
       "      <td>4.0</td>\n",
       "      <td>24.0</td>\n",
       "      <td>360.0</td>\n",
       "      <td>0</td>\n",
       "      <td>212</td>\n",
       "    </tr>\n",
       "    <tr>\n",
       "      <th>599</th>\n",
       "      <td>4.5</td>\n",
       "      <td>13476.0</td>\n",
       "      <td>311.0</td>\n",
       "      <td>2</td>\n",
       "      <td>215</td>\n",
       "    </tr>\n",
       "    <tr>\n",
       "      <th>1361</th>\n",
       "      <td>3.7</td>\n",
       "      <td>9256.0</td>\n",
       "      <td>1299.0</td>\n",
       "      <td>1</td>\n",
       "      <td>62</td>\n",
       "    </tr>\n",
       "    <tr>\n",
       "      <th>863</th>\n",
       "      <td>4.3</td>\n",
       "      <td>849.0</td>\n",
       "      <td>478.0</td>\n",
       "      <td>2</td>\n",
       "      <td>185</td>\n",
       "    </tr>\n",
       "  </tbody>\n",
       "</table>\n",
       "<p>1124 rows × 5 columns</p>\n",
       "</div>"
      ],
      "text/plain": [
       "      avg_review  no_of_reviews   price  category_le  brand_le\n",
       "1088         4.3       118593.0  1990.0            1       268\n",
       "126          4.3           18.0  1097.0            0       400\n",
       "567          1.0            4.0   649.0            2       219\n",
       "63           2.7           15.0  1119.0            0       406\n",
       "137          4.0           82.0   519.0            0       400\n",
       "...          ...            ...     ...          ...       ...\n",
       "973          3.6         1207.0  2199.0            1       324\n",
       "75           4.0           24.0   360.0            0       212\n",
       "599          4.5        13476.0   311.0            2       215\n",
       "1361         3.7         9256.0  1299.0            1        62\n",
       "863          4.3          849.0   478.0            2       185\n",
       "\n",
       "[1124 rows x 5 columns]"
      ]
     },
     "execution_count": 41,
     "metadata": {},
     "output_type": "execute_result"
    }
   ],
   "source": [
    "X_train"
   ]
  },
  {
   "cell_type": "markdown",
   "metadata": {},
   "source": [
    "## Standardization"
   ]
  },
  {
   "cell_type": "code",
   "execution_count": 42,
   "metadata": {},
   "outputs": [
    {
     "data": {
      "text/html": [
       "<div>\n",
       "<style scoped>\n",
       "    .dataframe tbody tr th:only-of-type {\n",
       "        vertical-align: middle;\n",
       "    }\n",
       "\n",
       "    .dataframe tbody tr th {\n",
       "        vertical-align: top;\n",
       "    }\n",
       "\n",
       "    .dataframe thead th {\n",
       "        text-align: right;\n",
       "    }\n",
       "</style>\n",
       "<table border=\"1\" class=\"dataframe\">\n",
       "  <thead>\n",
       "    <tr style=\"text-align: right;\">\n",
       "      <th></th>\n",
       "      <th>avg_review</th>\n",
       "      <th>no_of_reviews</th>\n",
       "      <th>price</th>\n",
       "      <th>category_le</th>\n",
       "      <th>brand_le</th>\n",
       "    </tr>\n",
       "  </thead>\n",
       "  <tbody>\n",
       "    <tr>\n",
       "      <th>count</th>\n",
       "      <td>1405.000000</td>\n",
       "      <td>1405.000000</td>\n",
       "      <td>1405.000000</td>\n",
       "      <td>1405.000000</td>\n",
       "      <td>1405.000000</td>\n",
       "    </tr>\n",
       "    <tr>\n",
       "      <th>mean</th>\n",
       "      <td>4.055800</td>\n",
       "      <td>11115.551758</td>\n",
       "      <td>3964.181885</td>\n",
       "      <td>1.019217</td>\n",
       "      <td>231.662633</td>\n",
       "    </tr>\n",
       "    <tr>\n",
       "      <th>std</th>\n",
       "      <td>0.469546</td>\n",
       "      <td>35014.593750</td>\n",
       "      <td>11107.629883</td>\n",
       "      <td>0.828826</td>\n",
       "      <td>122.015488</td>\n",
       "    </tr>\n",
       "    <tr>\n",
       "      <th>min</th>\n",
       "      <td>1.000000</td>\n",
       "      <td>1.000000</td>\n",
       "      <td>10.000000</td>\n",
       "      <td>0.000000</td>\n",
       "      <td>0.000000</td>\n",
       "    </tr>\n",
       "    <tr>\n",
       "      <th>25%</th>\n",
       "      <td>3.900000</td>\n",
       "      <td>178.000000</td>\n",
       "      <td>380.000000</td>\n",
       "      <td>0.000000</td>\n",
       "      <td>125.000000</td>\n",
       "    </tr>\n",
       "    <tr>\n",
       "      <th>50%</th>\n",
       "      <td>4.100000</td>\n",
       "      <td>754.000000</td>\n",
       "      <td>675.000000</td>\n",
       "      <td>1.000000</td>\n",
       "      <td>236.000000</td>\n",
       "    </tr>\n",
       "    <tr>\n",
       "      <th>75%</th>\n",
       "      <td>4.400000</td>\n",
       "      <td>6227.000000</td>\n",
       "      <td>1499.000000</td>\n",
       "      <td>2.000000</td>\n",
       "      <td>325.000000</td>\n",
       "    </tr>\n",
       "    <tr>\n",
       "      <th>max</th>\n",
       "      <td>5.000000</td>\n",
       "      <td>396978.000000</td>\n",
       "      <td>134990.000000</td>\n",
       "      <td>2.000000</td>\n",
       "      <td>426.000000</td>\n",
       "    </tr>\n",
       "  </tbody>\n",
       "</table>\n",
       "</div>"
      ],
      "text/plain": [
       "        avg_review  no_of_reviews          price  category_le     brand_le\n",
       "count  1405.000000    1405.000000    1405.000000  1405.000000  1405.000000\n",
       "mean      4.055800   11115.551758    3964.181885     1.019217   231.662633\n",
       "std       0.469546   35014.593750   11107.629883     0.828826   122.015488\n",
       "min       1.000000       1.000000      10.000000     0.000000     0.000000\n",
       "25%       3.900000     178.000000     380.000000     0.000000   125.000000\n",
       "50%       4.100000     754.000000     675.000000     1.000000   236.000000\n",
       "75%       4.400000    6227.000000    1499.000000     2.000000   325.000000\n",
       "max       5.000000  396978.000000  134990.000000     2.000000   426.000000"
      ]
     },
     "execution_count": 42,
     "metadata": {},
     "output_type": "execute_result"
    }
   ],
   "source": [
    "X.describe()"
   ]
  },
  {
   "cell_type": "code",
   "execution_count": 43,
   "metadata": {},
   "outputs": [],
   "source": [
    "from sklearn.preprocessing import StandardScaler\n",
    "sc = StandardScaler()"
   ]
  },
  {
   "cell_type": "code",
   "execution_count": 44,
   "metadata": {},
   "outputs": [
    {
     "data": {
      "text/html": [
       "<div>\n",
       "<style scoped>\n",
       "    .dataframe tbody tr th:only-of-type {\n",
       "        vertical-align: middle;\n",
       "    }\n",
       "\n",
       "    .dataframe tbody tr th {\n",
       "        vertical-align: top;\n",
       "    }\n",
       "\n",
       "    .dataframe thead th {\n",
       "        text-align: right;\n",
       "    }\n",
       "</style>\n",
       "<table border=\"1\" class=\"dataframe\">\n",
       "  <thead>\n",
       "    <tr style=\"text-align: right;\">\n",
       "      <th></th>\n",
       "      <th>avg_review</th>\n",
       "      <th>no_of_reviews</th>\n",
       "      <th>price</th>\n",
       "      <th>category_le</th>\n",
       "      <th>brand_le</th>\n",
       "    </tr>\n",
       "  </thead>\n",
       "  <tbody>\n",
       "    <tr>\n",
       "      <th>1088</th>\n",
       "      <td>4.3</td>\n",
       "      <td>118593.0</td>\n",
       "      <td>1990.0</td>\n",
       "      <td>1</td>\n",
       "      <td>268</td>\n",
       "    </tr>\n",
       "    <tr>\n",
       "      <th>126</th>\n",
       "      <td>4.3</td>\n",
       "      <td>18.0</td>\n",
       "      <td>1097.0</td>\n",
       "      <td>0</td>\n",
       "      <td>400</td>\n",
       "    </tr>\n",
       "    <tr>\n",
       "      <th>567</th>\n",
       "      <td>1.0</td>\n",
       "      <td>4.0</td>\n",
       "      <td>649.0</td>\n",
       "      <td>2</td>\n",
       "      <td>219</td>\n",
       "    </tr>\n",
       "    <tr>\n",
       "      <th>63</th>\n",
       "      <td>2.7</td>\n",
       "      <td>15.0</td>\n",
       "      <td>1119.0</td>\n",
       "      <td>0</td>\n",
       "      <td>406</td>\n",
       "    </tr>\n",
       "    <tr>\n",
       "      <th>137</th>\n",
       "      <td>4.0</td>\n",
       "      <td>82.0</td>\n",
       "      <td>519.0</td>\n",
       "      <td>0</td>\n",
       "      <td>400</td>\n",
       "    </tr>\n",
       "    <tr>\n",
       "      <th>...</th>\n",
       "      <td>...</td>\n",
       "      <td>...</td>\n",
       "      <td>...</td>\n",
       "      <td>...</td>\n",
       "      <td>...</td>\n",
       "    </tr>\n",
       "    <tr>\n",
       "      <th>973</th>\n",
       "      <td>3.6</td>\n",
       "      <td>1207.0</td>\n",
       "      <td>2199.0</td>\n",
       "      <td>1</td>\n",
       "      <td>324</td>\n",
       "    </tr>\n",
       "    <tr>\n",
       "      <th>75</th>\n",
       "      <td>4.0</td>\n",
       "      <td>24.0</td>\n",
       "      <td>360.0</td>\n",
       "      <td>0</td>\n",
       "      <td>212</td>\n",
       "    </tr>\n",
       "    <tr>\n",
       "      <th>599</th>\n",
       "      <td>4.5</td>\n",
       "      <td>13476.0</td>\n",
       "      <td>311.0</td>\n",
       "      <td>2</td>\n",
       "      <td>215</td>\n",
       "    </tr>\n",
       "    <tr>\n",
       "      <th>1361</th>\n",
       "      <td>3.7</td>\n",
       "      <td>9256.0</td>\n",
       "      <td>1299.0</td>\n",
       "      <td>1</td>\n",
       "      <td>62</td>\n",
       "    </tr>\n",
       "    <tr>\n",
       "      <th>863</th>\n",
       "      <td>4.3</td>\n",
       "      <td>849.0</td>\n",
       "      <td>478.0</td>\n",
       "      <td>2</td>\n",
       "      <td>185</td>\n",
       "    </tr>\n",
       "  </tbody>\n",
       "</table>\n",
       "<p>1124 rows × 5 columns</p>\n",
       "</div>"
      ],
      "text/plain": [
       "      avg_review  no_of_reviews   price  category_le  brand_le\n",
       "1088         4.3       118593.0  1990.0            1       268\n",
       "126          4.3           18.0  1097.0            0       400\n",
       "567          1.0            4.0   649.0            2       219\n",
       "63           2.7           15.0  1119.0            0       406\n",
       "137          4.0           82.0   519.0            0       400\n",
       "...          ...            ...     ...          ...       ...\n",
       "973          3.6         1207.0  2199.0            1       324\n",
       "75           4.0           24.0   360.0            0       212\n",
       "599          4.5        13476.0   311.0            2       215\n",
       "1361         3.7         9256.0  1299.0            1        62\n",
       "863          4.3          849.0   478.0            2       185\n",
       "\n",
       "[1124 rows x 5 columns]"
      ]
     },
     "execution_count": 44,
     "metadata": {},
     "output_type": "execute_result"
    }
   ],
   "source": [
    "X_train"
   ]
  },
  {
   "cell_type": "code",
   "execution_count": 45,
   "metadata": {},
   "outputs": [],
   "source": [
    "X_train_std = sc.fit_transform(X_train)"
   ]
  },
  {
   "cell_type": "code",
   "execution_count": 46,
   "metadata": {},
   "outputs": [],
   "source": [
    "X_test_std= sc.transform(X_test)"
   ]
  },
  {
   "cell_type": "code",
   "execution_count": 47,
   "metadata": {},
   "outputs": [
    {
     "data": {
      "text/plain": [
       "array([[ 0.5072032 ,  3.0251873 , -0.18393741, -0.02155924,  0.29439359],\n",
       "       [ 0.5072032 , -0.30707258, -0.26141909, -1.23318829,  1.37710115],\n",
       "       [-6.50740053, -0.30746601, -0.30029008,  1.19006981, -0.10752058],\n",
       "       ...,\n",
       "       [ 0.93233027,  0.07113154, -0.32961686,  1.19006981, -0.1403299 ],\n",
       "       [-0.76817952, -0.04746122, -0.24389244, -0.02155924, -1.39528638],\n",
       "       [ 0.5072032 , -0.28371936, -0.315127  ,  1.19006981, -0.3863998 ]])"
      ]
     },
     "execution_count": 47,
     "metadata": {},
     "output_type": "execute_result"
    }
   ],
   "source": [
    "X_train_std"
   ]
  },
  {
   "cell_type": "code",
   "execution_count": 48,
   "metadata": {},
   "outputs": [],
   "source": [
    "import joblib"
   ]
  },
  {
   "cell_type": "code",
   "execution_count": 49,
   "metadata": {},
   "outputs": [],
   "source": [
    "from sklearn.linear_model import LinearRegression\n",
    "lr= LinearRegression()"
   ]
  },
  {
   "cell_type": "code",
   "execution_count": 50,
   "metadata": {},
   "outputs": [
    {
     "data": {
      "text/plain": [
       "LinearRegression()"
      ]
     },
     "execution_count": 50,
     "metadata": {},
     "output_type": "execute_result"
    }
   ],
   "source": [
    "lr.fit(X_train_std, Y_train)"
   ]
  },
  {
   "cell_type": "code",
   "execution_count": 51,
   "metadata": {},
   "outputs": [
    {
     "data": {
      "text/html": [
       "<div>\n",
       "<style scoped>\n",
       "    .dataframe tbody tr th:only-of-type {\n",
       "        vertical-align: middle;\n",
       "    }\n",
       "\n",
       "    .dataframe tbody tr th {\n",
       "        vertical-align: top;\n",
       "    }\n",
       "\n",
       "    .dataframe thead th {\n",
       "        text-align: right;\n",
       "    }\n",
       "</style>\n",
       "<table border=\"1\" class=\"dataframe\">\n",
       "  <thead>\n",
       "    <tr style=\"text-align: right;\">\n",
       "      <th></th>\n",
       "      <th>avg_review</th>\n",
       "      <th>no_of_reviews</th>\n",
       "      <th>price</th>\n",
       "      <th>category_le</th>\n",
       "      <th>brand_le</th>\n",
       "    </tr>\n",
       "  </thead>\n",
       "  <tbody>\n",
       "    <tr>\n",
       "      <th>1040</th>\n",
       "      <td>4.3</td>\n",
       "      <td>10852.0</td>\n",
       "      <td>569.0</td>\n",
       "      <td>1</td>\n",
       "      <td>325</td>\n",
       "    </tr>\n",
       "    <tr>\n",
       "      <th>1191</th>\n",
       "      <td>4.2</td>\n",
       "      <td>31999.0</td>\n",
       "      <td>630.0</td>\n",
       "      <td>1</td>\n",
       "      <td>167</td>\n",
       "    </tr>\n",
       "    <tr>\n",
       "      <th>1380</th>\n",
       "      <td>4.4</td>\n",
       "      <td>16824.0</td>\n",
       "      <td>2295.0</td>\n",
       "      <td>1</td>\n",
       "      <td>218</td>\n",
       "    </tr>\n",
       "    <tr>\n",
       "      <th>2</th>\n",
       "      <td>3.6</td>\n",
       "      <td>648.0</td>\n",
       "      <td>349.0</td>\n",
       "      <td>0</td>\n",
       "      <td>93</td>\n",
       "    </tr>\n",
       "    <tr>\n",
       "      <th>1131</th>\n",
       "      <td>4.3</td>\n",
       "      <td>4152.0</td>\n",
       "      <td>43999.0</td>\n",
       "      <td>1</td>\n",
       "      <td>316</td>\n",
       "    </tr>\n",
       "  </tbody>\n",
       "</table>\n",
       "</div>"
      ],
      "text/plain": [
       "      avg_review  no_of_reviews    price  category_le  brand_le\n",
       "1040         4.3        10852.0    569.0            1       325\n",
       "1191         4.2        31999.0    630.0            1       167\n",
       "1380         4.4        16824.0   2295.0            1       218\n",
       "2            3.6          648.0    349.0            0        93\n",
       "1131         4.3         4152.0  43999.0            1       316"
      ]
     },
     "execution_count": 51,
     "metadata": {},
     "output_type": "execute_result"
    }
   ],
   "source": [
    "X_test.head()"
   ]
  },
  {
   "cell_type": "code",
   "execution_count": 52,
   "metadata": {},
   "outputs": [],
   "source": [
    "Y_pred_lr=lr.predict(X_test_std)"
   ]
  },
  {
   "cell_type": "code",
   "execution_count": 53,
   "metadata": {},
   "outputs": [
    {
     "data": {
      "text/plain": [
       "(281, 5)"
      ]
     },
     "execution_count": 53,
     "metadata": {},
     "output_type": "execute_result"
    }
   ],
   "source": [
    "Y_pred_lr\n",
    "X_test_std.shape"
   ]
  },
  {
   "cell_type": "markdown",
   "metadata": {},
   "source": [
    "## Performance evalution"
   ]
  },
  {
   "cell_type": "code",
   "execution_count": 54,
   "metadata": {},
   "outputs": [],
   "source": [
    "from sklearn.metrics import r2_score, mean_absolute_error, mean_squared_error"
   ]
  },
  {
   "cell_type": "code",
   "execution_count": 55,
   "metadata": {},
   "outputs": [
    {
     "name": "stdout",
     "output_type": "stream",
     "text": [
      "R2 score :  0.28925316142544744\n",
      "mean absolute error :  629.3527627070921\n",
      "Mean squared error :  1012.8931272729436\n"
     ]
    }
   ],
   "source": [
    "print('R2 score : ', r2_score(Y_test,Y_pred_lr))\n",
    "print('mean absolute error : ',mean_absolute_error(Y_test,Y_pred_lr))\n",
    "print('Mean squared error : ',np.sqrt(mean_squared_error(Y_test,Y_pred_lr)))\n",
    "\n"
   ]
  },
  {
   "cell_type": "code",
   "execution_count": 56,
   "metadata": {},
   "outputs": [
    {
     "data": {
      "text/plain": [
       "['outputs\\\\lr.sav']"
      ]
     },
     "execution_count": 56,
     "metadata": {},
     "output_type": "execute_result"
    }
   ],
   "source": [
    "joblib.dump(lr,r'outputs\\lr.sav')"
   ]
  },
  {
   "cell_type": "code",
   "execution_count": null,
   "metadata": {},
   "outputs": [],
   "source": []
  },
  {
   "cell_type": "code",
   "execution_count": null,
   "metadata": {},
   "outputs": [],
   "source": []
  },
  {
   "cell_type": "markdown",
   "metadata": {},
   "source": [
    "### Testing the model in real time"
   ]
  },
  {
   "cell_type": "code",
   "execution_count": 57,
   "metadata": {},
   "outputs": [],
   "source": [
    "brands_health = []\n",
    "brands_cloth = []\n",
    "brands_electronics = []"
   ]
  },
  {
   "cell_type": "code",
   "execution_count": 58,
   "metadata": {},
   "outputs": [],
   "source": [
    "for i in range(0, 469):\n",
    "    brands_cloth.append((df_train['brand'][i]))\n",
    "\n",
    "for i in range(469, 965):\n",
    "    brands_health.append((df_train['brand'][i]))\n",
    "\n",
    "for i in range(965, 1405):\n",
    "    brands_electronics.append(df_train['brand'][i])"
   ]
  },
  {
   "cell_type": "code",
   "execution_count": 59,
   "metadata": {},
   "outputs": [],
   "source": [
    "#len(brands_cloth)"
   ]
  },
  {
   "cell_type": "code",
   "execution_count": 60,
   "metadata": {},
   "outputs": [],
   "source": [
    "brands_cloth = list(set(brands_cloth))\n",
    "brands_health = list(set(brands_health))\n",
    "brands_electronics = list(set(brands_electronics))"
   ]
  },
  {
   "cell_type": "code",
   "execution_count": 61,
   "metadata": {},
   "outputs": [
    {
     "name": "stdout",
     "output_type": "stream",
     "text": [
      "The available brands in electronics are :  ['motorola', 'saregama', 'nokia', 'jbl', 'acer', 'honor', 'msi', 'sony', 'lava', 'tp-link', 'lenovo ', 'asus', 'hyperx', 'lenovo', 'razer', 'redgear', 'amazon', 'redmi', 'corsair', 'noise', 'mivi', 'boult', 'wecool', 'dell', 'oneplus', 'sennheiser', 'boat', 'logitech', 'vivo', 'sandisk', 'gionee', 'zebronics', 'realme', 'lg', 'ptron', 'bose', 'oppo', 'philips', 'hp', 'samsung']\n"
     ]
    }
   ],
   "source": [
    "cat_in_label = 1000\n",
    "cat_in = input(\"Enter the name of the category : \").lower()\n",
    "cat_in = cat_in.lower()\n",
    "\n",
    "if cat_in == \"electronics\":\n",
    "    print(f\"The available brands in {cat_in} are : \", brands_electronics)\n",
    "    for idx, i in enumerate(df_train_og['Category']):\n",
    "        if i.lower() == cat_in:\n",
    "            cat_in_label = X_train['category_le'][idx+1]\n",
    "            break\n",
    "elif cat_in == \"clothing and accessories\":\n",
    "    print(f\"The available brands in {cat_in} are : \", brands_cloth)\n",
    "    for idx, i in enumerate(df_train_og['Category']):\n",
    "        if i.lower() == cat_in:\n",
    "            cat_in_label = X_train['category_le'][idx+1]\n",
    "            break\n",
    "elif cat_in == \"health and personal care\":\n",
    "    print(f\"The available brands in {cat_in} are :\", brands_health)\n",
    "    for idx, i in enumerate(df_train_og['Category']):\n",
    "        if i.lower() == cat_in:\n",
    "            cat_in_label = X_train['category_le'][idx+1]\n",
    "            break\n",
    "else :\n",
    "    print(f\"{cat_in} doesn't exist\")\n",
    "\n",
    "\n",
    "#print(cat_in_label)"
   ]
  },
  {
   "cell_type": "code",
   "execution_count": 62,
   "metadata": {},
   "outputs": [],
   "source": [
    "brand_in = input(\"Choose one of the above brand : \")\n",
    "\n",
    "if cat_in == 'electronics':\n",
    "    if brand_in in brands_electronics :\n",
    "        for idx, i in enumerate(df_train['brand']):\n",
    "            brand_in_label = df_train['brand_le'][idx]\n",
    "    else :\n",
    "        print(\"The selected brand is not in our database!\")\n",
    "\n",
    "elif cat_in == \"health and personal care\":\n",
    "    if brand_in in brands_health:\n",
    "        for idx, i in enumerate(df_train['brand']):\n",
    "            brand_in_label = df_train['brand_le'][idx]\n",
    "    else :\n",
    "        print(\"The selected brand in not in our database!\")\n",
    "\n",
    "elif cat_in == \"clothing and accessories\":\n",
    "    if brand_in in brands_cloth:\n",
    "        for idx, i in enumerate(df_train['brand']):\n",
    "            brand_in_label = df_train['brand_le'][idx]\n",
    "    else :\n",
    "        print(\"The selected brand is not in our database!\")"
   ]
  },
  {
   "cell_type": "code",
   "execution_count": 63,
   "metadata": {},
   "outputs": [
    {
     "data": {
      "text/plain": [
       "88"
      ]
     },
     "execution_count": 63,
     "metadata": {},
     "output_type": "execute_result"
    }
   ],
   "source": [
    "brand_in_label"
   ]
  },
  {
   "cell_type": "code",
   "execution_count": 64,
   "metadata": {},
   "outputs": [],
   "source": [
    "            avg_review_in = float(input(\"Enter the average review of the product : \"))\n",
    "            avg_review_in_std = (avg_review_in - np.mean(df_train['avg_review'])) / np.std(df_train['avg_review'])\n",
    "\n",
    "\n",
    "            no_of_reviews_in = int(input(\"Enter the number of reviews in : \"))\n",
    "            no_of_reviews_in_std = (no_of_reviews_in - np.mean(df_train['no_of_reviews'])) / np.std(df_train['no_of_reviews'])\n",
    "\n",
    "            price_in = float(input(\"Enter the price of the product : \"))\n",
    "            price_in_std = (price_in - np.mean(df_train['price'])) / np.std(df_train['price'])\n",
    "\n",
    "            #cat_in_label, brand_in_label\n",
    "\n",
    "            cat_in_label_std = (cat_in_label - np.mean(df_train['category_le'])) / np.std(df_train['category_le'])\n",
    "\n",
    "            brand_in_label_std = (brand_in_label - np.mean(df_train['brand_le'])) / np.std(df_train['brand_le'])\n",
    "\n",
    "            inputs = np.array([[avg_review_in_std, no_of_reviews_in_std, price_in_std, cat_in_label_std, brand_in_label_std]], dtype = np.float32)"
   ]
  },
  {
   "cell_type": "code",
   "execution_count": 65,
   "metadata": {},
   "outputs": [
    {
     "data": {
      "text/html": [
       "<div>\n",
       "<style scoped>\n",
       "    .dataframe tbody tr th:only-of-type {\n",
       "        vertical-align: middle;\n",
       "    }\n",
       "\n",
       "    .dataframe tbody tr th {\n",
       "        vertical-align: top;\n",
       "    }\n",
       "\n",
       "    .dataframe thead th {\n",
       "        text-align: right;\n",
       "    }\n",
       "</style>\n",
       "<table border=\"1\" class=\"dataframe\">\n",
       "  <thead>\n",
       "    <tr style=\"text-align: right;\">\n",
       "      <th></th>\n",
       "      <th>category</th>\n",
       "      <th>avg_review</th>\n",
       "      <th>no_of_reviews</th>\n",
       "      <th>price</th>\n",
       "      <th>brand</th>\n",
       "      <th>average_sales_month</th>\n",
       "      <th>category_le</th>\n",
       "      <th>brand_le</th>\n",
       "    </tr>\n",
       "  </thead>\n",
       "  <tbody>\n",
       "    <tr>\n",
       "      <th>0</th>\n",
       "      <td>clothing and accessories</td>\n",
       "      <td>4.4</td>\n",
       "      <td>197.0</td>\n",
       "      <td>379.0</td>\n",
       "      <td>lymio</td>\n",
       "      <td>500</td>\n",
       "      <td>0</td>\n",
       "      <td>221</td>\n",
       "    </tr>\n",
       "    <tr>\n",
       "      <th>1</th>\n",
       "      <td>clothing and accessories</td>\n",
       "      <td>4.1</td>\n",
       "      <td>482.0</td>\n",
       "      <td>369.0</td>\n",
       "      <td>lymio</td>\n",
       "      <td>436</td>\n",
       "      <td>0</td>\n",
       "      <td>221</td>\n",
       "    </tr>\n",
       "    <tr>\n",
       "      <th>2</th>\n",
       "      <td>clothing and accessories</td>\n",
       "      <td>3.6</td>\n",
       "      <td>648.0</td>\n",
       "      <td>349.0</td>\n",
       "      <td>dhruvi trendz</td>\n",
       "      <td>321</td>\n",
       "      <td>0</td>\n",
       "      <td>93</td>\n",
       "    </tr>\n",
       "    <tr>\n",
       "      <th>3</th>\n",
       "      <td>clothing and accessories</td>\n",
       "      <td>2.0</td>\n",
       "      <td>3.0</td>\n",
       "      <td>459.0</td>\n",
       "      <td>bhumi fashion</td>\n",
       "      <td>284</td>\n",
       "      <td>0</td>\n",
       "      <td>47</td>\n",
       "    </tr>\n",
       "    <tr>\n",
       "      <th>4</th>\n",
       "      <td>clothing and accessories</td>\n",
       "      <td>3.8</td>\n",
       "      <td>367.0</td>\n",
       "      <td>359.0</td>\n",
       "      <td>siril</td>\n",
       "      <td>251</td>\n",
       "      <td>0</td>\n",
       "      <td>343</td>\n",
       "    </tr>\n",
       "    <tr>\n",
       "      <th>...</th>\n",
       "      <td>...</td>\n",
       "      <td>...</td>\n",
       "      <td>...</td>\n",
       "      <td>...</td>\n",
       "      <td>...</td>\n",
       "      <td>...</td>\n",
       "      <td>...</td>\n",
       "      <td>...</td>\n",
       "    </tr>\n",
       "    <tr>\n",
       "      <th>1400</th>\n",
       "      <td>electronics</td>\n",
       "      <td>4.3</td>\n",
       "      <td>6510.0</td>\n",
       "      <td>549.0</td>\n",
       "      <td>redgear</td>\n",
       "      <td>951</td>\n",
       "      <td>1</td>\n",
       "      <td>315</td>\n",
       "    </tr>\n",
       "    <tr>\n",
       "      <th>1401</th>\n",
       "      <td>electronics</td>\n",
       "      <td>4.6</td>\n",
       "      <td>6532.0</td>\n",
       "      <td>1495.0</td>\n",
       "      <td>logitech</td>\n",
       "      <td>449</td>\n",
       "      <td>1</td>\n",
       "      <td>218</td>\n",
       "    </tr>\n",
       "    <tr>\n",
       "      <th>1402</th>\n",
       "      <td>electronics</td>\n",
       "      <td>4.6</td>\n",
       "      <td>4123.0</td>\n",
       "      <td>1482.0</td>\n",
       "      <td>logitech</td>\n",
       "      <td>411</td>\n",
       "      <td>1</td>\n",
       "      <td>218</td>\n",
       "    </tr>\n",
       "    <tr>\n",
       "      <th>1403</th>\n",
       "      <td>electronics</td>\n",
       "      <td>4.2</td>\n",
       "      <td>28964.0</td>\n",
       "      <td>229.0</td>\n",
       "      <td>redmi</td>\n",
       "      <td>1296</td>\n",
       "      <td>1</td>\n",
       "      <td>316</td>\n",
       "    </tr>\n",
       "    <tr>\n",
       "      <th>1404</th>\n",
       "      <td>electronics</td>\n",
       "      <td>4.4</td>\n",
       "      <td>18407.0</td>\n",
       "      <td>649.0</td>\n",
       "      <td>dell</td>\n",
       "      <td>1279</td>\n",
       "      <td>1</td>\n",
       "      <td>88</td>\n",
       "    </tr>\n",
       "  </tbody>\n",
       "</table>\n",
       "<p>1405 rows × 8 columns</p>\n",
       "</div>"
      ],
      "text/plain": [
       "                      category  avg_review  no_of_reviews   price  \\\n",
       "0     clothing and accessories         4.4          197.0   379.0   \n",
       "1     clothing and accessories         4.1          482.0   369.0   \n",
       "2     clothing and accessories         3.6          648.0   349.0   \n",
       "3     clothing and accessories         2.0            3.0   459.0   \n",
       "4     clothing and accessories         3.8          367.0   359.0   \n",
       "...                        ...         ...            ...     ...   \n",
       "1400               electronics         4.3         6510.0   549.0   \n",
       "1401               electronics         4.6         6532.0  1495.0   \n",
       "1402               electronics         4.6         4123.0  1482.0   \n",
       "1403               electronics         4.2        28964.0   229.0   \n",
       "1404               electronics         4.4        18407.0   649.0   \n",
       "\n",
       "              brand  average_sales_month  category_le  brand_le  \n",
       "0             lymio                  500            0       221  \n",
       "1             lymio                  436            0       221  \n",
       "2     dhruvi trendz                  321            0        93  \n",
       "3     bhumi fashion                  284            0        47  \n",
       "4             siril                  251            0       343  \n",
       "...             ...                  ...          ...       ...  \n",
       "1400        redgear                  951            1       315  \n",
       "1401       logitech                  449            1       218  \n",
       "1402       logitech                  411            1       218  \n",
       "1403          redmi                 1296            1       316  \n",
       "1404           dell                 1279            1        88  \n",
       "\n",
       "[1405 rows x 8 columns]"
      ]
     },
     "execution_count": 65,
     "metadata": {},
     "output_type": "execute_result"
    }
   ],
   "source": [
    "df_train"
   ]
  },
  {
   "cell_type": "code",
   "execution_count": 66,
   "metadata": {},
   "outputs": [],
   "source": [
    "#inputs_std= sc.transform(inputs)\n",
    "Y_pred = lr.predict(inputs)\n"
   ]
  },
  {
   "cell_type": "code",
   "execution_count": 67,
   "metadata": {},
   "outputs": [
    {
     "name": "stdout",
     "output_type": "stream",
     "text": [
      "The average sales of the product described will be : 506\n"
     ]
    }
   ],
   "source": [
    "print(\"The average sales of the product described will be : {}\".format(int(Y_pred[0])))"
   ]
  },
  {
   "cell_type": "code",
   "execution_count": null,
   "metadata": {},
   "outputs": [],
   "source": []
  }
 ],
 "metadata": {
  "interpreter": {
   "hash": "96eb50e1d44aed467dc8f759cb08c32fbfa9babcf79c554e2d0e5feb04653a10"
  },
  "kernelspec": {
   "display_name": "Python 3.8.8 64-bit ('base': conda)",
   "language": "python",
   "name": "python3"
  },
  "language_info": {
   "codemirror_mode": {
    "name": "ipython",
    "version": 3
   },
   "file_extension": ".py",
   "mimetype": "text/x-python",
   "name": "python",
   "nbconvert_exporter": "python",
   "pygments_lexer": "ipython3",
   "version": "3.8.8"
  },
  "orig_nbformat": 4
 },
 "nbformat": 4,
 "nbformat_minor": 2
}

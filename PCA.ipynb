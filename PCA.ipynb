{
 "cells": [
  {
   "cell_type": "code",
   "execution_count": 45,
   "metadata": {},
   "outputs": [],
   "source": [
    "import numpy as np\n",
    "import pandas as pd\n",
    "import matplotlib.pyplot as plt\n"
   ]
  },
  {
   "cell_type": "code",
   "execution_count": 46,
   "metadata": {},
   "outputs": [],
   "source": [
    "#Reading in the data\n",
    "\n",
    "xls = pd.ExcelFile(\"ml_data_final.xlsx\")\n",
    "\n",
    "df_train = pd.read_excel(xls, \"Sheet1\")\n",
    "df_train_og = pd.read_excel(xls, \"Sheet1\")"
   ]
  },
  {
   "cell_type": "code",
   "execution_count": 47,
   "metadata": {},
   "outputs": [
    {
     "name": "stderr",
     "output_type": "stream",
     "text": [
      "<ipython-input-47-639555bb9e89>:2: SettingWithCopyWarning: \n",
      "A value is trying to be set on a copy of a slice from a DataFrame\n",
      "\n",
      "See the caveats in the documentation: https://pandas.pydata.org/pandas-docs/stable/user_guide/indexing.html#returning-a-view-versus-a-copy\n",
      "  df_train['Category'][i] = df_train['Category'][i].lower()\n",
      "<ipython-input-47-639555bb9e89>:3: SettingWithCopyWarning: \n",
      "A value is trying to be set on a copy of a slice from a DataFrame\n",
      "\n",
      "See the caveats in the documentation: https://pandas.pydata.org/pandas-docs/stable/user_guide/indexing.html#returning-a-view-versus-a-copy\n",
      "  df_train['Brand'][i] = df_train['Brand'][i].lower()\n"
     ]
    }
   ],
   "source": [
    "for i in range(df_train.shape[0]):\n",
    "    df_train['Category'][i] = df_train['Category'][i].lower()\n",
    "    df_train['Brand'][i] = df_train['Brand'][i].lower()"
   ]
  },
  {
   "cell_type": "code",
   "execution_count": 48,
   "metadata": {},
   "outputs": [
    {
     "data": {
      "text/html": [
       "<div>\n",
       "<style scoped>\n",
       "    .dataframe tbody tr th:only-of-type {\n",
       "        vertical-align: middle;\n",
       "    }\n",
       "\n",
       "    .dataframe tbody tr th {\n",
       "        vertical-align: top;\n",
       "    }\n",
       "\n",
       "    .dataframe thead th {\n",
       "        text-align: right;\n",
       "    }\n",
       "</style>\n",
       "<table border=\"1\" class=\"dataframe\">\n",
       "  <thead>\n",
       "    <tr style=\"text-align: right;\">\n",
       "      <th></th>\n",
       "      <th>Product_name</th>\n",
       "      <th>Product_url</th>\n",
       "      <th>Category</th>\n",
       "      <th>Avg_review</th>\n",
       "      <th>No_of_reviews</th>\n",
       "      <th>Price</th>\n",
       "      <th>Brand</th>\n",
       "      <th>Average_sales_month</th>\n",
       "    </tr>\n",
       "  </thead>\n",
       "  <tbody>\n",
       "    <tr>\n",
       "      <th>0</th>\n",
       "      <td>Lymio Women's Regular Top</td>\n",
       "      <td>https://www.amazon.in/Lymio-Womens-Regular-Top...</td>\n",
       "      <td>clothing and accessories</td>\n",
       "      <td>4.4</td>\n",
       "      <td>197.0</td>\n",
       "      <td>379.0</td>\n",
       "      <td>lymio</td>\n",
       "      <td>500</td>\n",
       "    </tr>\n",
       "    <tr>\n",
       "      <th>1</th>\n",
       "      <td>Lymio Women's Regular Color Chocker Neck Half ...</td>\n",
       "      <td>https://www.amazon.in/Lymio-Womens-Regular-Top...</td>\n",
       "      <td>clothing and accessories</td>\n",
       "      <td>4.1</td>\n",
       "      <td>482.0</td>\n",
       "      <td>369.0</td>\n",
       "      <td>lymio</td>\n",
       "      <td>436</td>\n",
       "    </tr>\n",
       "    <tr>\n",
       "      <th>2</th>\n",
       "      <td>Women Printed Slub Rayon Top with Half Sleeves</td>\n",
       "      <td>https://www.amazon.in/DHRUVI-TRENDZ-Printed-Sl...</td>\n",
       "      <td>clothing and accessories</td>\n",
       "      <td>3.6</td>\n",
       "      <td>648.0</td>\n",
       "      <td>349.0</td>\n",
       "      <td>dhruvi trendz</td>\n",
       "      <td>321</td>\n",
       "    </tr>\n",
       "    <tr>\n",
       "      <th>3</th>\n",
       "      <td>Butterfly Tops for Women Stylish</td>\n",
       "      <td>https://www.amazon.in/Bhumi-fashion-Butterfly-...</td>\n",
       "      <td>clothing and accessories</td>\n",
       "      <td>2.0</td>\n",
       "      <td>3.0</td>\n",
       "      <td>459.0</td>\n",
       "      <td>bhumi fashion</td>\n",
       "      <td>284</td>\n",
       "    </tr>\n",
       "    <tr>\n",
       "      <th>4</th>\n",
       "      <td>Women's Diva Slub Regular Fit Dyed Top</td>\n",
       "      <td>https://www.amazon.in/SIRIL-WomenS-Rayon-117TK...</td>\n",
       "      <td>clothing and accessories</td>\n",
       "      <td>3.8</td>\n",
       "      <td>367.0</td>\n",
       "      <td>359.0</td>\n",
       "      <td>siril</td>\n",
       "      <td>251</td>\n",
       "    </tr>\n",
       "  </tbody>\n",
       "</table>\n",
       "</div>"
      ],
      "text/plain": [
       "                                        Product_name  \\\n",
       "0                          Lymio Women's Regular Top   \n",
       "1  Lymio Women's Regular Color Chocker Neck Half ...   \n",
       "2     Women Printed Slub Rayon Top with Half Sleeves   \n",
       "3                   Butterfly Tops for Women Stylish   \n",
       "4             Women's Diva Slub Regular Fit Dyed Top   \n",
       "\n",
       "                                         Product_url  \\\n",
       "0  https://www.amazon.in/Lymio-Womens-Regular-Top...   \n",
       "1  https://www.amazon.in/Lymio-Womens-Regular-Top...   \n",
       "2  https://www.amazon.in/DHRUVI-TRENDZ-Printed-Sl...   \n",
       "3  https://www.amazon.in/Bhumi-fashion-Butterfly-...   \n",
       "4  https://www.amazon.in/SIRIL-WomenS-Rayon-117TK...   \n",
       "\n",
       "                   Category  Avg_review  No_of_reviews  Price          Brand  \\\n",
       "0  clothing and accessories         4.4          197.0  379.0          lymio   \n",
       "1  clothing and accessories         4.1          482.0  369.0          lymio   \n",
       "2  clothing and accessories         3.6          648.0  349.0  dhruvi trendz   \n",
       "3  clothing and accessories         2.0            3.0  459.0  bhumi fashion   \n",
       "4  clothing and accessories         3.8          367.0  359.0          siril   \n",
       "\n",
       "   Average_sales_month  \n",
       "0                  500  \n",
       "1                  436  \n",
       "2                  321  \n",
       "3                  284  \n",
       "4                  251  "
      ]
     },
     "execution_count": 48,
     "metadata": {},
     "output_type": "execute_result"
    }
   ],
   "source": [
    "df_train.head()"
   ]
  },
  {
   "cell_type": "code",
   "execution_count": 49,
   "metadata": {},
   "outputs": [],
   "source": [
    "df_train.drop(['Product_name','Product_url'],axis=1,inplace=True)\n",
    "#Taking of the columns which are of no use"
   ]
  },
  {
   "cell_type": "code",
   "execution_count": 50,
   "metadata": {},
   "outputs": [],
   "source": [
    "import klib"
   ]
  },
  {
   "cell_type": "code",
   "execution_count": 51,
   "metadata": {},
   "outputs": [
    {
     "name": "stdout",
     "output_type": "stream",
     "text": [
      "Shape of cleaned data: (1405, 6)Remaining NAs: 0\n",
      "\n",
      "Changes:\n",
      "Dropped rows: 96\n",
      "     of which 96 duplicates. (Rows: [151, 152, 153, 154, 155, 156, 157, 158, 159, 160, 161, 162, 163, 166, 167, 168, 169, 170, 171, 172, 173, 174, 175, 176, 177, 178, 179, 194, 195, 199, 255, 478, 502, 504, 505, 506, 1164, 1360, 1372, 1399, 1428, 1446, 1447, 1448, 1449, 1450, 1451, 1452, 1453, 1454, 1455, 1456, 1457, 1458, 1459, 1460, 1461, 1462, 1463, 1464, 1465, 1466, 1467, 1468, 1469, 1470, 1471, 1472, 1473, 1474, 1475, 1476, 1477, 1478, 1479, 1480, 1481, 1482, 1483, 1484, 1485, 1486, 1487, 1488, 1489, 1490, 1491, 1492, 1493, 1494, 1495, 1496, 1497, 1498, 1499, 1500])\n",
      "Dropped columns: 0\n",
      "     of which 0 single valued.     Columns: []\n",
      "Dropped missing values: 0\n",
      "Reduced memory by at least: 0.04 MB (-57.14%)\n",
      "\n"
     ]
    }
   ],
   "source": [
    "df_train = klib.data_cleaning(df_train)"
   ]
  },
  {
   "cell_type": "code",
   "execution_count": 52,
   "metadata": {},
   "outputs": [
    {
     "data": {
      "text/html": [
       "<div>\n",
       "<style scoped>\n",
       "    .dataframe tbody tr th:only-of-type {\n",
       "        vertical-align: middle;\n",
       "    }\n",
       "\n",
       "    .dataframe tbody tr th {\n",
       "        vertical-align: top;\n",
       "    }\n",
       "\n",
       "    .dataframe thead th {\n",
       "        text-align: right;\n",
       "    }\n",
       "</style>\n",
       "<table border=\"1\" class=\"dataframe\">\n",
       "  <thead>\n",
       "    <tr style=\"text-align: right;\">\n",
       "      <th></th>\n",
       "      <th>category</th>\n",
       "      <th>avg_review</th>\n",
       "      <th>no_of_reviews</th>\n",
       "      <th>price</th>\n",
       "      <th>brand</th>\n",
       "      <th>average_sales_month</th>\n",
       "    </tr>\n",
       "  </thead>\n",
       "  <tbody>\n",
       "    <tr>\n",
       "      <th>0</th>\n",
       "      <td>clothing and accessories</td>\n",
       "      <td>4.4</td>\n",
       "      <td>197.0</td>\n",
       "      <td>379.0</td>\n",
       "      <td>lymio</td>\n",
       "      <td>500</td>\n",
       "    </tr>\n",
       "    <tr>\n",
       "      <th>1</th>\n",
       "      <td>clothing and accessories</td>\n",
       "      <td>4.1</td>\n",
       "      <td>482.0</td>\n",
       "      <td>369.0</td>\n",
       "      <td>lymio</td>\n",
       "      <td>436</td>\n",
       "    </tr>\n",
       "    <tr>\n",
       "      <th>2</th>\n",
       "      <td>clothing and accessories</td>\n",
       "      <td>3.6</td>\n",
       "      <td>648.0</td>\n",
       "      <td>349.0</td>\n",
       "      <td>dhruvi trendz</td>\n",
       "      <td>321</td>\n",
       "    </tr>\n",
       "    <tr>\n",
       "      <th>3</th>\n",
       "      <td>clothing and accessories</td>\n",
       "      <td>2.0</td>\n",
       "      <td>3.0</td>\n",
       "      <td>459.0</td>\n",
       "      <td>bhumi fashion</td>\n",
       "      <td>284</td>\n",
       "    </tr>\n",
       "    <tr>\n",
       "      <th>4</th>\n",
       "      <td>clothing and accessories</td>\n",
       "      <td>3.8</td>\n",
       "      <td>367.0</td>\n",
       "      <td>359.0</td>\n",
       "      <td>siril</td>\n",
       "      <td>251</td>\n",
       "    </tr>\n",
       "    <tr>\n",
       "      <th>...</th>\n",
       "      <td>...</td>\n",
       "      <td>...</td>\n",
       "      <td>...</td>\n",
       "      <td>...</td>\n",
       "      <td>...</td>\n",
       "      <td>...</td>\n",
       "    </tr>\n",
       "    <tr>\n",
       "      <th>1400</th>\n",
       "      <td>electronics</td>\n",
       "      <td>4.3</td>\n",
       "      <td>6510.0</td>\n",
       "      <td>549.0</td>\n",
       "      <td>redgear</td>\n",
       "      <td>951</td>\n",
       "    </tr>\n",
       "    <tr>\n",
       "      <th>1401</th>\n",
       "      <td>electronics</td>\n",
       "      <td>4.6</td>\n",
       "      <td>6532.0</td>\n",
       "      <td>1495.0</td>\n",
       "      <td>logitech</td>\n",
       "      <td>449</td>\n",
       "    </tr>\n",
       "    <tr>\n",
       "      <th>1402</th>\n",
       "      <td>electronics</td>\n",
       "      <td>4.6</td>\n",
       "      <td>4123.0</td>\n",
       "      <td>1482.0</td>\n",
       "      <td>logitech</td>\n",
       "      <td>411</td>\n",
       "    </tr>\n",
       "    <tr>\n",
       "      <th>1403</th>\n",
       "      <td>electronics</td>\n",
       "      <td>4.2</td>\n",
       "      <td>28964.0</td>\n",
       "      <td>229.0</td>\n",
       "      <td>redmi</td>\n",
       "      <td>1296</td>\n",
       "    </tr>\n",
       "    <tr>\n",
       "      <th>1404</th>\n",
       "      <td>electronics</td>\n",
       "      <td>4.4</td>\n",
       "      <td>18407.0</td>\n",
       "      <td>649.0</td>\n",
       "      <td>dell</td>\n",
       "      <td>1279</td>\n",
       "    </tr>\n",
       "  </tbody>\n",
       "</table>\n",
       "<p>1405 rows × 6 columns</p>\n",
       "</div>"
      ],
      "text/plain": [
       "                      category  avg_review  no_of_reviews   price  \\\n",
       "0     clothing and accessories         4.4          197.0   379.0   \n",
       "1     clothing and accessories         4.1          482.0   369.0   \n",
       "2     clothing and accessories         3.6          648.0   349.0   \n",
       "3     clothing and accessories         2.0            3.0   459.0   \n",
       "4     clothing and accessories         3.8          367.0   359.0   \n",
       "...                        ...         ...            ...     ...   \n",
       "1400               electronics         4.3         6510.0   549.0   \n",
       "1401               electronics         4.6         6532.0  1495.0   \n",
       "1402               electronics         4.6         4123.0  1482.0   \n",
       "1403               electronics         4.2        28964.0   229.0   \n",
       "1404               electronics         4.4        18407.0   649.0   \n",
       "\n",
       "              brand  average_sales_month  \n",
       "0             lymio                  500  \n",
       "1             lymio                  436  \n",
       "2     dhruvi trendz                  321  \n",
       "3     bhumi fashion                  284  \n",
       "4             siril                  251  \n",
       "...             ...                  ...  \n",
       "1400        redgear                  951  \n",
       "1401       logitech                  449  \n",
       "1402       logitech                  411  \n",
       "1403          redmi                 1296  \n",
       "1404           dell                 1279  \n",
       "\n",
       "[1405 rows x 6 columns]"
      ]
     },
     "execution_count": 52,
     "metadata": {},
     "output_type": "execute_result"
    }
   ],
   "source": [
    "klib.clean_column_names(df_train) # cleans and standardizes column names, also called "
   ]
  },
  {
   "cell_type": "code",
   "execution_count": 53,
   "metadata": {},
   "outputs": [
    {
     "name": "stdout",
     "output_type": "stream",
     "text": [
      "<class 'pandas.core.frame.DataFrame'>\n",
      "RangeIndex: 1405 entries, 0 to 1404\n",
      "Data columns (total 6 columns):\n",
      " #   Column               Non-Null Count  Dtype   \n",
      "---  ------               --------------  -----   \n",
      " 0   category             1405 non-null   category\n",
      " 1   avg_review           1405 non-null   Float32 \n",
      " 2   no_of_reviews        1405 non-null   Float32 \n",
      " 3   price                1405 non-null   Float32 \n",
      " 4   brand                1405 non-null   string  \n",
      " 5   average_sales_month  1405 non-null   int16   \n",
      "dtypes: Float32(3), category(1), int16(1), string(1)\n",
      "memory usage: 35.9 KB\n"
     ]
    }
   ],
   "source": [
    "df_train = klib.convert_datatypes(df_train) # converts existing to more efficient dtypes, also called inside data_cleaning()\n",
    "df_train.info()"
   ]
  },
  {
   "cell_type": "code",
   "execution_count": 54,
   "metadata": {},
   "outputs": [
    {
     "data": {
      "text/html": [
       "<div>\n",
       "<style scoped>\n",
       "    .dataframe tbody tr th:only-of-type {\n",
       "        vertical-align: middle;\n",
       "    }\n",
       "\n",
       "    .dataframe tbody tr th {\n",
       "        vertical-align: top;\n",
       "    }\n",
       "\n",
       "    .dataframe thead th {\n",
       "        text-align: right;\n",
       "    }\n",
       "</style>\n",
       "<table border=\"1\" class=\"dataframe\">\n",
       "  <thead>\n",
       "    <tr style=\"text-align: right;\">\n",
       "      <th></th>\n",
       "      <th>category</th>\n",
       "      <th>avg_review</th>\n",
       "      <th>no_of_reviews</th>\n",
       "      <th>price</th>\n",
       "      <th>brand</th>\n",
       "      <th>average_sales_month</th>\n",
       "    </tr>\n",
       "  </thead>\n",
       "  <tbody>\n",
       "    <tr>\n",
       "      <th>0</th>\n",
       "      <td>clothing and accessories</td>\n",
       "      <td>4.4</td>\n",
       "      <td>197.0</td>\n",
       "      <td>379.0</td>\n",
       "      <td>lymio</td>\n",
       "      <td>500</td>\n",
       "    </tr>\n",
       "    <tr>\n",
       "      <th>1</th>\n",
       "      <td>clothing and accessories</td>\n",
       "      <td>4.1</td>\n",
       "      <td>482.0</td>\n",
       "      <td>369.0</td>\n",
       "      <td>lymio</td>\n",
       "      <td>436</td>\n",
       "    </tr>\n",
       "    <tr>\n",
       "      <th>2</th>\n",
       "      <td>clothing and accessories</td>\n",
       "      <td>3.6</td>\n",
       "      <td>648.0</td>\n",
       "      <td>349.0</td>\n",
       "      <td>dhruvi trendz</td>\n",
       "      <td>321</td>\n",
       "    </tr>\n",
       "    <tr>\n",
       "      <th>3</th>\n",
       "      <td>clothing and accessories</td>\n",
       "      <td>2.0</td>\n",
       "      <td>3.0</td>\n",
       "      <td>459.0</td>\n",
       "      <td>bhumi fashion</td>\n",
       "      <td>284</td>\n",
       "    </tr>\n",
       "    <tr>\n",
       "      <th>4</th>\n",
       "      <td>clothing and accessories</td>\n",
       "      <td>3.8</td>\n",
       "      <td>367.0</td>\n",
       "      <td>359.0</td>\n",
       "      <td>siril</td>\n",
       "      <td>251</td>\n",
       "    </tr>\n",
       "    <tr>\n",
       "      <th>...</th>\n",
       "      <td>...</td>\n",
       "      <td>...</td>\n",
       "      <td>...</td>\n",
       "      <td>...</td>\n",
       "      <td>...</td>\n",
       "      <td>...</td>\n",
       "    </tr>\n",
       "    <tr>\n",
       "      <th>1400</th>\n",
       "      <td>electronics</td>\n",
       "      <td>4.3</td>\n",
       "      <td>6510.0</td>\n",
       "      <td>549.0</td>\n",
       "      <td>redgear</td>\n",
       "      <td>951</td>\n",
       "    </tr>\n",
       "    <tr>\n",
       "      <th>1401</th>\n",
       "      <td>electronics</td>\n",
       "      <td>4.6</td>\n",
       "      <td>6532.0</td>\n",
       "      <td>1495.0</td>\n",
       "      <td>logitech</td>\n",
       "      <td>449</td>\n",
       "    </tr>\n",
       "    <tr>\n",
       "      <th>1402</th>\n",
       "      <td>electronics</td>\n",
       "      <td>4.6</td>\n",
       "      <td>4123.0</td>\n",
       "      <td>1482.0</td>\n",
       "      <td>logitech</td>\n",
       "      <td>411</td>\n",
       "    </tr>\n",
       "    <tr>\n",
       "      <th>1403</th>\n",
       "      <td>electronics</td>\n",
       "      <td>4.2</td>\n",
       "      <td>28964.0</td>\n",
       "      <td>229.0</td>\n",
       "      <td>redmi</td>\n",
       "      <td>1296</td>\n",
       "    </tr>\n",
       "    <tr>\n",
       "      <th>1404</th>\n",
       "      <td>electronics</td>\n",
       "      <td>4.4</td>\n",
       "      <td>18407.0</td>\n",
       "      <td>649.0</td>\n",
       "      <td>dell</td>\n",
       "      <td>1279</td>\n",
       "    </tr>\n",
       "  </tbody>\n",
       "</table>\n",
       "<p>1405 rows × 6 columns</p>\n",
       "</div>"
      ],
      "text/plain": [
       "                      category  avg_review  no_of_reviews   price  \\\n",
       "0     clothing and accessories         4.4          197.0   379.0   \n",
       "1     clothing and accessories         4.1          482.0   369.0   \n",
       "2     clothing and accessories         3.6          648.0   349.0   \n",
       "3     clothing and accessories         2.0            3.0   459.0   \n",
       "4     clothing and accessories         3.8          367.0   359.0   \n",
       "...                        ...         ...            ...     ...   \n",
       "1400               electronics         4.3         6510.0   549.0   \n",
       "1401               electronics         4.6         6532.0  1495.0   \n",
       "1402               electronics         4.6         4123.0  1482.0   \n",
       "1403               electronics         4.2        28964.0   229.0   \n",
       "1404               electronics         4.4        18407.0   649.0   \n",
       "\n",
       "              brand  average_sales_month  \n",
       "0             lymio                  500  \n",
       "1             lymio                  436  \n",
       "2     dhruvi trendz                  321  \n",
       "3     bhumi fashion                  284  \n",
       "4             siril                  251  \n",
       "...             ...                  ...  \n",
       "1400        redgear                  951  \n",
       "1401       logitech                  449  \n",
       "1402       logitech                  411  \n",
       "1403          redmi                 1296  \n",
       "1404           dell                 1279  \n",
       "\n",
       "[1405 rows x 6 columns]"
      ]
     },
     "execution_count": 54,
     "metadata": {},
     "output_type": "execute_result"
    }
   ],
   "source": [
    "klib.mv_col_handling(df_train)"
   ]
  },
  {
   "cell_type": "code",
   "execution_count": 55,
   "metadata": {},
   "outputs": [],
   "source": [
    "from sklearn.preprocessing import LabelEncoder\n",
    "le=LabelEncoder()"
   ]
  },
  {
   "cell_type": "code",
   "execution_count": 56,
   "metadata": {},
   "outputs": [],
   "source": [
    "df_train['category_le']= le.fit_transform(df_train['category'])\n",
    "df_train['brand_le']= le.fit_transform(df_train['brand'])"
   ]
  },
  {
   "cell_type": "code",
   "execution_count": 57,
   "metadata": {},
   "outputs": [
    {
     "data": {
      "text/html": [
       "<div>\n",
       "<style scoped>\n",
       "    .dataframe tbody tr th:only-of-type {\n",
       "        vertical-align: middle;\n",
       "    }\n",
       "\n",
       "    .dataframe tbody tr th {\n",
       "        vertical-align: top;\n",
       "    }\n",
       "\n",
       "    .dataframe thead th {\n",
       "        text-align: right;\n",
       "    }\n",
       "</style>\n",
       "<table border=\"1\" class=\"dataframe\">\n",
       "  <thead>\n",
       "    <tr style=\"text-align: right;\">\n",
       "      <th></th>\n",
       "      <th>category</th>\n",
       "      <th>avg_review</th>\n",
       "      <th>no_of_reviews</th>\n",
       "      <th>price</th>\n",
       "      <th>brand</th>\n",
       "      <th>average_sales_month</th>\n",
       "      <th>category_le</th>\n",
       "      <th>brand_le</th>\n",
       "    </tr>\n",
       "  </thead>\n",
       "  <tbody>\n",
       "    <tr>\n",
       "      <th>0</th>\n",
       "      <td>clothing and accessories</td>\n",
       "      <td>4.4</td>\n",
       "      <td>197.0</td>\n",
       "      <td>379.0</td>\n",
       "      <td>lymio</td>\n",
       "      <td>500</td>\n",
       "      <td>0</td>\n",
       "      <td>221</td>\n",
       "    </tr>\n",
       "    <tr>\n",
       "      <th>1</th>\n",
       "      <td>clothing and accessories</td>\n",
       "      <td>4.1</td>\n",
       "      <td>482.0</td>\n",
       "      <td>369.0</td>\n",
       "      <td>lymio</td>\n",
       "      <td>436</td>\n",
       "      <td>0</td>\n",
       "      <td>221</td>\n",
       "    </tr>\n",
       "    <tr>\n",
       "      <th>2</th>\n",
       "      <td>clothing and accessories</td>\n",
       "      <td>3.6</td>\n",
       "      <td>648.0</td>\n",
       "      <td>349.0</td>\n",
       "      <td>dhruvi trendz</td>\n",
       "      <td>321</td>\n",
       "      <td>0</td>\n",
       "      <td>93</td>\n",
       "    </tr>\n",
       "    <tr>\n",
       "      <th>3</th>\n",
       "      <td>clothing and accessories</td>\n",
       "      <td>2.0</td>\n",
       "      <td>3.0</td>\n",
       "      <td>459.0</td>\n",
       "      <td>bhumi fashion</td>\n",
       "      <td>284</td>\n",
       "      <td>0</td>\n",
       "      <td>47</td>\n",
       "    </tr>\n",
       "    <tr>\n",
       "      <th>4</th>\n",
       "      <td>clothing and accessories</td>\n",
       "      <td>3.8</td>\n",
       "      <td>367.0</td>\n",
       "      <td>359.0</td>\n",
       "      <td>siril</td>\n",
       "      <td>251</td>\n",
       "      <td>0</td>\n",
       "      <td>343</td>\n",
       "    </tr>\n",
       "    <tr>\n",
       "      <th>...</th>\n",
       "      <td>...</td>\n",
       "      <td>...</td>\n",
       "      <td>...</td>\n",
       "      <td>...</td>\n",
       "      <td>...</td>\n",
       "      <td>...</td>\n",
       "      <td>...</td>\n",
       "      <td>...</td>\n",
       "    </tr>\n",
       "    <tr>\n",
       "      <th>1400</th>\n",
       "      <td>electronics</td>\n",
       "      <td>4.3</td>\n",
       "      <td>6510.0</td>\n",
       "      <td>549.0</td>\n",
       "      <td>redgear</td>\n",
       "      <td>951</td>\n",
       "      <td>1</td>\n",
       "      <td>315</td>\n",
       "    </tr>\n",
       "    <tr>\n",
       "      <th>1401</th>\n",
       "      <td>electronics</td>\n",
       "      <td>4.6</td>\n",
       "      <td>6532.0</td>\n",
       "      <td>1495.0</td>\n",
       "      <td>logitech</td>\n",
       "      <td>449</td>\n",
       "      <td>1</td>\n",
       "      <td>218</td>\n",
       "    </tr>\n",
       "    <tr>\n",
       "      <th>1402</th>\n",
       "      <td>electronics</td>\n",
       "      <td>4.6</td>\n",
       "      <td>4123.0</td>\n",
       "      <td>1482.0</td>\n",
       "      <td>logitech</td>\n",
       "      <td>411</td>\n",
       "      <td>1</td>\n",
       "      <td>218</td>\n",
       "    </tr>\n",
       "    <tr>\n",
       "      <th>1403</th>\n",
       "      <td>electronics</td>\n",
       "      <td>4.2</td>\n",
       "      <td>28964.0</td>\n",
       "      <td>229.0</td>\n",
       "      <td>redmi</td>\n",
       "      <td>1296</td>\n",
       "      <td>1</td>\n",
       "      <td>316</td>\n",
       "    </tr>\n",
       "    <tr>\n",
       "      <th>1404</th>\n",
       "      <td>electronics</td>\n",
       "      <td>4.4</td>\n",
       "      <td>18407.0</td>\n",
       "      <td>649.0</td>\n",
       "      <td>dell</td>\n",
       "      <td>1279</td>\n",
       "      <td>1</td>\n",
       "      <td>88</td>\n",
       "    </tr>\n",
       "  </tbody>\n",
       "</table>\n",
       "<p>1405 rows × 8 columns</p>\n",
       "</div>"
      ],
      "text/plain": [
       "                      category  avg_review  no_of_reviews   price  \\\n",
       "0     clothing and accessories         4.4          197.0   379.0   \n",
       "1     clothing and accessories         4.1          482.0   369.0   \n",
       "2     clothing and accessories         3.6          648.0   349.0   \n",
       "3     clothing and accessories         2.0            3.0   459.0   \n",
       "4     clothing and accessories         3.8          367.0   359.0   \n",
       "...                        ...         ...            ...     ...   \n",
       "1400               electronics         4.3         6510.0   549.0   \n",
       "1401               electronics         4.6         6532.0  1495.0   \n",
       "1402               electronics         4.6         4123.0  1482.0   \n",
       "1403               electronics         4.2        28964.0   229.0   \n",
       "1404               electronics         4.4        18407.0   649.0   \n",
       "\n",
       "              brand  average_sales_month  category_le  brand_le  \n",
       "0             lymio                  500            0       221  \n",
       "1             lymio                  436            0       221  \n",
       "2     dhruvi trendz                  321            0        93  \n",
       "3     bhumi fashion                  284            0        47  \n",
       "4             siril                  251            0       343  \n",
       "...             ...                  ...          ...       ...  \n",
       "1400        redgear                  951            1       315  \n",
       "1401       logitech                  449            1       218  \n",
       "1402       logitech                  411            1       218  \n",
       "1403          redmi                 1296            1       316  \n",
       "1404           dell                 1279            1        88  \n",
       "\n",
       "[1405 rows x 8 columns]"
      ]
     },
     "execution_count": 57,
     "metadata": {},
     "output_type": "execute_result"
    }
   ],
   "source": [
    "df_train"
   ]
  },
  {
   "cell_type": "code",
   "execution_count": 58,
   "metadata": {},
   "outputs": [],
   "source": [
    "X=df_train.drop('average_sales_month',axis=1)"
   ]
  },
  {
   "cell_type": "code",
   "execution_count": 59,
   "metadata": {},
   "outputs": [],
   "source": [
    "X = X.drop('category', axis = 1)\n"
   ]
  },
  {
   "cell_type": "code",
   "execution_count": 60,
   "metadata": {},
   "outputs": [],
   "source": [
    "X = X.drop('brand', axis = 1)"
   ]
  },
  {
   "cell_type": "code",
   "execution_count": 61,
   "metadata": {},
   "outputs": [
    {
     "data": {
      "text/html": [
       "<div>\n",
       "<style scoped>\n",
       "    .dataframe tbody tr th:only-of-type {\n",
       "        vertical-align: middle;\n",
       "    }\n",
       "\n",
       "    .dataframe tbody tr th {\n",
       "        vertical-align: top;\n",
       "    }\n",
       "\n",
       "    .dataframe thead th {\n",
       "        text-align: right;\n",
       "    }\n",
       "</style>\n",
       "<table border=\"1\" class=\"dataframe\">\n",
       "  <thead>\n",
       "    <tr style=\"text-align: right;\">\n",
       "      <th></th>\n",
       "      <th>avg_review</th>\n",
       "      <th>no_of_reviews</th>\n",
       "      <th>price</th>\n",
       "      <th>category_le</th>\n",
       "      <th>brand_le</th>\n",
       "    </tr>\n",
       "  </thead>\n",
       "  <tbody>\n",
       "    <tr>\n",
       "      <th>0</th>\n",
       "      <td>4.4</td>\n",
       "      <td>197.0</td>\n",
       "      <td>379.0</td>\n",
       "      <td>0</td>\n",
       "      <td>221</td>\n",
       "    </tr>\n",
       "    <tr>\n",
       "      <th>1</th>\n",
       "      <td>4.1</td>\n",
       "      <td>482.0</td>\n",
       "      <td>369.0</td>\n",
       "      <td>0</td>\n",
       "      <td>221</td>\n",
       "    </tr>\n",
       "    <tr>\n",
       "      <th>2</th>\n",
       "      <td>3.6</td>\n",
       "      <td>648.0</td>\n",
       "      <td>349.0</td>\n",
       "      <td>0</td>\n",
       "      <td>93</td>\n",
       "    </tr>\n",
       "    <tr>\n",
       "      <th>3</th>\n",
       "      <td>2.0</td>\n",
       "      <td>3.0</td>\n",
       "      <td>459.0</td>\n",
       "      <td>0</td>\n",
       "      <td>47</td>\n",
       "    </tr>\n",
       "    <tr>\n",
       "      <th>4</th>\n",
       "      <td>3.8</td>\n",
       "      <td>367.0</td>\n",
       "      <td>359.0</td>\n",
       "      <td>0</td>\n",
       "      <td>343</td>\n",
       "    </tr>\n",
       "    <tr>\n",
       "      <th>...</th>\n",
       "      <td>...</td>\n",
       "      <td>...</td>\n",
       "      <td>...</td>\n",
       "      <td>...</td>\n",
       "      <td>...</td>\n",
       "    </tr>\n",
       "    <tr>\n",
       "      <th>1400</th>\n",
       "      <td>4.3</td>\n",
       "      <td>6510.0</td>\n",
       "      <td>549.0</td>\n",
       "      <td>1</td>\n",
       "      <td>315</td>\n",
       "    </tr>\n",
       "    <tr>\n",
       "      <th>1401</th>\n",
       "      <td>4.6</td>\n",
       "      <td>6532.0</td>\n",
       "      <td>1495.0</td>\n",
       "      <td>1</td>\n",
       "      <td>218</td>\n",
       "    </tr>\n",
       "    <tr>\n",
       "      <th>1402</th>\n",
       "      <td>4.6</td>\n",
       "      <td>4123.0</td>\n",
       "      <td>1482.0</td>\n",
       "      <td>1</td>\n",
       "      <td>218</td>\n",
       "    </tr>\n",
       "    <tr>\n",
       "      <th>1403</th>\n",
       "      <td>4.2</td>\n",
       "      <td>28964.0</td>\n",
       "      <td>229.0</td>\n",
       "      <td>1</td>\n",
       "      <td>316</td>\n",
       "    </tr>\n",
       "    <tr>\n",
       "      <th>1404</th>\n",
       "      <td>4.4</td>\n",
       "      <td>18407.0</td>\n",
       "      <td>649.0</td>\n",
       "      <td>1</td>\n",
       "      <td>88</td>\n",
       "    </tr>\n",
       "  </tbody>\n",
       "</table>\n",
       "<p>1405 rows × 5 columns</p>\n",
       "</div>"
      ],
      "text/plain": [
       "      avg_review  no_of_reviews   price  category_le  brand_le\n",
       "0            4.4          197.0   379.0            0       221\n",
       "1            4.1          482.0   369.0            0       221\n",
       "2            3.6          648.0   349.0            0        93\n",
       "3            2.0            3.0   459.0            0        47\n",
       "4            3.8          367.0   359.0            0       343\n",
       "...          ...            ...     ...          ...       ...\n",
       "1400         4.3         6510.0   549.0            1       315\n",
       "1401         4.6         6532.0  1495.0            1       218\n",
       "1402         4.6         4123.0  1482.0            1       218\n",
       "1403         4.2        28964.0   229.0            1       316\n",
       "1404         4.4        18407.0   649.0            1        88\n",
       "\n",
       "[1405 rows x 5 columns]"
      ]
     },
     "execution_count": 61,
     "metadata": {},
     "output_type": "execute_result"
    }
   ],
   "source": [
    "X"
   ]
  },
  {
   "cell_type": "code",
   "execution_count": 62,
   "metadata": {},
   "outputs": [],
   "source": [
    "Y = df_train['average_sales_month']"
   ]
  },
  {
   "cell_type": "code",
   "execution_count": 63,
   "metadata": {},
   "outputs": [
    {
     "data": {
      "text/plain": [
       "array([[4.400000095367432, 197.0, 379.0, 0, 221],\n",
       "       [4.099999904632568, 482.0, 369.0, 0, 221],\n",
       "       [3.5999999046325684, 648.0, 349.0, 0, 93],\n",
       "       ...,\n",
       "       [4.599999904632568, 4123.0, 1482.0, 1, 218],\n",
       "       [4.199999809265137, 28964.0, 229.0, 1, 316],\n",
       "       [4.400000095367432, 18407.0, 649.0, 1, 88]], dtype=object)"
      ]
     },
     "execution_count": 63,
     "metadata": {},
     "output_type": "execute_result"
    }
   ],
   "source": [
    "X_arr = X.to_numpy()\n",
    "X_arr"
   ]
  },
  {
   "cell_type": "code",
   "execution_count": 64,
   "metadata": {},
   "outputs": [],
   "source": [
    "## Splitting data into training and testing \n",
    "\n",
    "from sklearn.model_selection import train_test_split\n",
    "\n",
    "X_train, X_test, Y_train, Y_test = train_test_split(X,Y, random_state=101, test_size=0.2)"
   ]
  },
  {
   "cell_type": "code",
   "execution_count": 65,
   "metadata": {},
   "outputs": [],
   "source": [
    "from sklearn.preprocessing import StandardScaler\n",
    "sc = StandardScaler()"
   ]
  },
  {
   "cell_type": "code",
   "execution_count": 66,
   "metadata": {},
   "outputs": [],
   "source": [
    "X_train_std = sc.fit_transform(X_train)"
   ]
  },
  {
   "cell_type": "code",
   "execution_count": 67,
   "metadata": {},
   "outputs": [],
   "source": [
    "X_test_std= sc.transform(X_test)"
   ]
  },
  {
   "cell_type": "code",
   "execution_count": 68,
   "metadata": {},
   "outputs": [],
   "source": [
    "Y_train_arr = Y_train.to_numpy(dtype = np.float32)\n",
    "Y_test_arr = Y_test.to_numpy(dtype = np.float32)"
   ]
  },
  {
   "cell_type": "code",
   "execution_count": 69,
   "metadata": {},
   "outputs": [],
   "source": [
    "Y_train_2d = np.reshape(Y_train_arr, (Y_train_arr.shape[0], 1) )\n",
    "Y_test_2d = np.reshape(Y_test_arr, (Y_test_arr.shape[0], 1))"
   ]
  },
  {
   "cell_type": "code",
   "execution_count": 70,
   "metadata": {},
   "outputs": [],
   "source": [
    "#Normalizing the output\n",
    "Y_train_std = sc.fit_transform(Y_train_2d)\n",
    "Y_test_std = sc.fit_transform(Y_test_2d)"
   ]
  },
  {
   "cell_type": "code",
   "execution_count": 71,
   "metadata": {},
   "outputs": [
    {
     "data": {
      "text/plain": [
       "array([[ 0.5072032 ,  3.0251873 , -0.18393741, -0.02155924,  0.29439359],\n",
       "       [ 0.5072032 , -0.30707258, -0.26141909, -1.23318829,  1.37710115],\n",
       "       [-6.50740053, -0.30746601, -0.30029008,  1.19006981, -0.10752058],\n",
       "       ...,\n",
       "       [ 0.93233027,  0.07113154, -0.32961686,  1.19006981, -0.1403299 ],\n",
       "       [-0.76817952, -0.04746122, -0.24389244, -0.02155924, -1.39528638],\n",
       "       [ 0.5072032 , -0.28371936, -0.315127  ,  1.19006981, -0.3863998 ]])"
      ]
     },
     "execution_count": 71,
     "metadata": {},
     "output_type": "execute_result"
    }
   ],
   "source": [
    "#To reshape\n",
    "X_train_std"
   ]
  },
  {
   "cell_type": "code",
   "execution_count": 81,
   "metadata": {},
   "outputs": [],
   "source": [
    "from sklearn.decomposition import PCA"
   ]
  },
  {
   "cell_type": "code",
   "execution_count": 82,
   "metadata": {},
   "outputs": [],
   "source": [
    "pca = PCA(n_components = 1)"
   ]
  },
  {
   "cell_type": "code",
   "execution_count": 83,
   "metadata": {},
   "outputs": [
    {
     "data": {
      "text/plain": [
       "PCA(n_components=1)"
      ]
     },
     "execution_count": 83,
     "metadata": {},
     "output_type": "execute_result"
    }
   ],
   "source": [
    "A = pca.fit(X_train_std)\n",
    "A"
   ]
  },
  {
   "cell_type": "code",
   "execution_count": 84,
   "metadata": {},
   "outputs": [
    {
     "name": "stdout",
     "output_type": "stream",
     "text": [
      "[38.58578183]\n"
     ]
    }
   ],
   "source": [
    "print(pca.singular_values_)"
   ]
  },
  {
   "cell_type": "code",
   "execution_count": 85,
   "metadata": {},
   "outputs": [
    {
     "name": "stdout",
     "output_type": "stream",
     "text": [
      "1\n"
     ]
    }
   ],
   "source": [
    "print(len(pca.explained_variance_ratio_))"
   ]
  },
  {
   "cell_type": "code",
   "execution_count": 86,
   "metadata": {},
   "outputs": [],
   "source": [
    "X_pca = pca.transform(X_train_std)"
   ]
  },
  {
   "cell_type": "code",
   "execution_count": 87,
   "metadata": {},
   "outputs": [
    {
     "data": {
      "text/plain": [
       "array([[-0.94814736],\n",
       "       [ 1.14488447],\n",
       "       [ 3.13690163],\n",
       "       ...,\n",
       "       [-1.36927962],\n",
       "       [-0.05226175],\n",
       "       [-1.123498  ]])"
      ]
     },
     "execution_count": 87,
     "metadata": {},
     "output_type": "execute_result"
    }
   ],
   "source": [
    "X_pca"
   ]
  },
  {
   "cell_type": "code",
   "execution_count": 88,
   "metadata": {},
   "outputs": [
    {
     "data": {
      "text/plain": [
       "(1124, 5)"
      ]
     },
     "execution_count": 88,
     "metadata": {},
     "output_type": "execute_result"
    }
   ],
   "source": [
    "X_train_std.shape"
   ]
  },
  {
   "cell_type": "code",
   "execution_count": 89,
   "metadata": {},
   "outputs": [
    {
     "data": {
      "text/plain": [
       "(1124, 1)"
      ]
     },
     "execution_count": 89,
     "metadata": {},
     "output_type": "execute_result"
    }
   ],
   "source": [
    "X_pca.shape"
   ]
  },
  {
   "cell_type": "code",
   "execution_count": 90,
   "metadata": {},
   "outputs": [],
   "source": [
    "from sklearn.linear_model import LinearRegression\n",
    "lr= LinearRegression()"
   ]
  },
  {
   "cell_type": "code",
   "execution_count": 91,
   "metadata": {},
   "outputs": [
    {
     "data": {
      "text/plain": [
       "LinearRegression()"
      ]
     },
     "execution_count": 91,
     "metadata": {},
     "output_type": "execute_result"
    }
   ],
   "source": [
    "lr.fit(X_pca, Y_train)"
   ]
  },
  {
   "cell_type": "code",
   "execution_count": 93,
   "metadata": {},
   "outputs": [],
   "source": [
    "X_test_pca = pca.transform(X_test_std)"
   ]
  },
  {
   "cell_type": "code",
   "execution_count": 95,
   "metadata": {},
   "outputs": [],
   "source": [
    "Y_pred_lr=lr.predict(X_test_pca)"
   ]
  },
  {
   "cell_type": "code",
   "execution_count": 96,
   "metadata": {},
   "outputs": [],
   "source": [
    "from sklearn.metrics import r2_score, mean_absolute_error, mean_squared_error"
   ]
  },
  {
   "cell_type": "code",
   "execution_count": 97,
   "metadata": {},
   "outputs": [
    {
     "name": "stdout",
     "output_type": "stream",
     "text": [
      "R2 score :  0.09766416761380692\n",
      "mean absolute error :  737.4987399072083\n",
      "Mean squared error :  1141.2748790102555\n"
     ]
    }
   ],
   "source": [
    "print('R2 score : ', r2_score(Y_test,Y_pred_lr))\n",
    "print('mean absolute error : ',mean_absolute_error(Y_test,Y_pred_lr))\n",
    "print('Mean squared error : ',np.sqrt(mean_squared_error(Y_test,Y_pred_lr)))"
   ]
  },
  {
   "cell_type": "code",
   "execution_count": 99,
   "metadata": {},
   "outputs": [
    {
     "data": {
      "text/plain": [
       "Text(0, 0.5, 'Number of sales')"
      ]
     },
     "execution_count": 99,
     "metadata": {},
     "output_type": "execute_result"
    },
    {
     "data": {
      "image/png": "[encoded data removed]",
      "text/plain": [
       "<Figure size 432x288 with 1 Axes>"
      ]
     },
     "metadata": {
      "needs_background": "light"
     },
     "output_type": "display_data"
    }
   ],
   "source": []
  },
  {
   "cell_type": "code",
   "execution_count": 100,
   "metadata": {},
   "outputs": [],
   "source": [
    "Y_pred_train = lr.predict(X_pca)"
   ]
  },
  {
   "cell_type": "code",
   "execution_count": 102,
   "metadata": {},
   "outputs": [
    {
     "data": {
      "text/plain": [
       "(1124,)"
      ]
     },
     "execution_count": 102,
     "metadata": {},
     "output_type": "execute_result"
    }
   ],
   "source": [
    "Y_pred_train.shape"
   ]
  },
  {
   "cell_type": "code",
   "execution_count": 105,
   "metadata": {},
   "outputs": [
    {
     "data": {
      "text/plain": [
       "<matplotlib.legend.Legend at 0x28d87359be0>"
      ]
     },
     "execution_count": 105,
     "metadata": {},
     "output_type": "execute_result"
    },
    {
     "data": {
      "image/png": "[encoded data removed]",
      "text/plain": [
       "<Figure size 432x288 with 1 Axes>"
      ]
     },
     "metadata": {
      "needs_background": "light"
     },
     "output_type": "display_data"
    }
   ],
   "source": [
    "#Plotting original data set\n",
    "plt.plot(X_pca, Y_train_arr, label = \"Original data\")\n",
    "plt.plot(X_pca, Y_pred_train, label = \"Line of fit\")\n",
    "plt.xlabel(\"Reduced feature value\")\n",
    "plt.ylabel(\"Number of sales\")\n",
    "plt.legend()"
   ]
  },
  {
   "cell_type": "code",
   "execution_count": 106,
   "metadata": {},
   "outputs": [],
   "source": [
    "from sklearn.metrics import r2_score, mean_absolute_error, mean_squared_error"
   ]
  },
  {
   "cell_type": "code",
   "execution_count": null,
   "metadata": {},
   "outputs": [],
   "source": [
    "print('R2 score : ', r2_score(Y_test,Y_pred_lr))\n",
    "print('mean absolute error : ',mean_absolute_error(Y_test,Y_pred_lr))\n",
    "print('Mean squared error : ',np.sqrt(mean_squared_error(Y_test,Y_pred_lr)))"
   ]
  }
 ],
 "metadata": {
  "interpreter": {
   "hash": "96eb50e1d44aed467dc8f759cb08c32fbfa9babcf79c554e2d0e5feb04653a10"
  },
  "kernelspec": {
   "display_name": "Python 3.8.8 64-bit ('base': conda)",
   "language": "python",
   "name": "python3"
  },
  "language_info": {
   "codemirror_mode": {
    "name": "ipython",
    "version": 3
   },
   "file_extension": ".py",
   "mimetype": "text/x-python",
   "name": "python",
   "nbconvert_exporter": "python",
   "pygments_lexer": "ipython3",
   "version": "3.8.8"
  },
  "orig_nbformat": 4
 },
 "nbformat": 4,
 "nbformat_minor": 2
}
